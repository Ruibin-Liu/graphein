{
 "cells": [
  {
   "cell_type": "markdown",
   "metadata": {},
   "source": [
    "# Graphein Protein Structure Dataloaders\n",
    "## PyTorch Geometric Datasets\n",
    "\n",
    "[API Reference](https://graphein.ai/modules/graphein.ml.html#graphein.ml.datasets.torch_geometric_dataset)\n",
    "\n",
    "Graphein provides three dataset classes for working with [PyTorch Geometric](https://pytorch-geometric.readthedocs.io/en/latest/):\n",
    "\n",
    "* [`ProteinGraphDataset`]() - For processing large datasets that can't be kept in memory\n",
    "* [`InMemoryProteinGraphDataset`]() - For smaller datasets that can be kept in memory\n",
    "* [`ProteinGraphListDataset`]() - For creating a dataset from a list of pre-computed PyTorch Geometric graphs.\n",
    "\n",
    "Both `ProteinGraphDataset` and `InMemoryGraphDataset` will take care of downloading structures from either the [RCSB PDB](https://www.rcsb.org/), [EBI AlphaFold database](https://alphafold.com/), or both!\n",
    "`ProteinGraphListDataset` is a lightweight alternative for creating a dataset from a collection of graphs you have pre-computed.\n",
    "\n",
    "[![Open In Colab](https://colab.research.google.com/assets/colab-badge.svg)](https://colab.research.google.com/github/a-r-j/graphein/blob/master/notebooks/dataloader_tutorial.ipynb)"
   ]
  },
  {
   "cell_type": "code",
   "execution_count": 1,
   "metadata": {},
   "outputs": [],
   "source": [
    "# Install graphein if necessary\n",
    "# !pip install graphein\n",
    "\n",
    "# Install torch if necessary. See https://pytorch.org/get-started/locally/\n",
    "# pip install torch==1.11.0\n",
    "\n",
    "# Install torch geometric if necessary. See: https://pytorch-geometric.readthedocs.io/en/latest/notes/installation.html\n",
    "# pip install torch-scatter torch-sparse torch-cluster torch-spline-conv torch-geometric -f https://data.pyg.org/whl/torch-1.11.0+cpu.html"
   ]
  },
  {
   "attachments": {},
   "cell_type": "markdown",
   "metadata": {},
   "source": [
    "### ProteinGraphDataset\n",
    "\n",
    "[API Reference](https://graphein.ai/modules/graphein.ml.html#graphein.ml.datasets.torch_geometric_dataset.ProteinGraphDataset)\n",
    "\n",
    "`ProteinGraphDataset` will download structures from the PDB/AlphafoldDB, process the structures into graphs according to a `ProteinGraphConfig`.\n",
    "\n",
    "#### Parameters\n",
    "\n",
    "```python\n",
    "ProteinGraphDataset(\n",
    "        root: str,                                                             \n",
    "        # Root directory where the dataset should be saved.\n",
    "        name: str,                                                             \n",
    "        # Name of the dataset. Will be saved to ``data_$name.pt``.\n",
    "        pdb_paths:Optional[List[str]] =None,\n",
    "        # List of full path of pdb files to load.\n",
    "        pdb_codes: Optional[List[str]] = None,                                 \n",
    "        #  List of PDB codes to download and parse from the PDB.\n",
    "        uniprot_ids: Optional[List[str]] = None,                               \n",
    "        # List of Uniprot IDs to download and parse from Alphafold Database\n",
    "        graph_label_map: Optional[Dict[str, torch.Tensor]] = None,             \n",
    "        # Dictionary mapping PDB/Uniprot IDs to graph-level labels.\n",
    "        node_label_map: Optional[Dict[str, torch.Tensor]] = None,              \n",
    "        # Dictionary mapping PDB/Uniprot IDs to node-level labels.\n",
    "        chain_selection_map: Optional[Dict[str, List[str]]] = None,            \n",
    "        # Dictionary mapping PDB/Uniprot IDs to the desired chains in the PDB files\n",
    "        graphein_config: ProteinGraphConfig = ProteinGraphConfig(),            \n",
    "        # Protein graph construction config\n",
    "        graph_format_convertor: GraphFormatConvertor = GraphFormatConvertor(   \n",
    "            src_format=\"nx\", dst_format=\"pyg\"\n",
    "        ),\n",
    "        # Conversion handler for graphs\n",
    "        graph_transformation_funcs: Optional[List[Callable]] = None,           \n",
    "        # List of functions that consume a nx.Graph and return a nx.Graph. Applied to graphs after construction but before conversion to pyg\n",
    "        transform: Optional[Callable] = None,                                  \n",
    "        # A function/transform that takes in a torch_geometric.data.Data object and returns a transformed version. The data object will be transformed before every access.\n",
    "        pdb_transform: Optional[List[Callable]] = None,\n",
    "        pre_transform: Optional[Callable] = None,                              \n",
    "        # A function/transform that takes in a torch_geometric.data.Data object and returns a transformed version. The data object will be transformed before being saved to disk\n",
    "        pre_filter: Optional[Callable] = None,                                 \n",
    "        # A function that takes in a torch_geometric.data.Data object and returns a boolean value, indicating whether the data object should be included in the final dataset\n",
    "        num_cores: int = 16,                                                   \n",
    "        # Number of cores to use for multiprocessing of graph construction\n",
    "        af_version: int = 2,                                                   \n",
    "        #  Version of AlphaFoldDB structures to use,\n",
    "    )\n",
    "```\n",
    "\n",
    "\n",
    "#### Directory Structure\n",
    "Creating a ``ProteinGraphDataset`` will create two directories under ``root``:\n",
    "\n",
    "* ``root/raw`` - Contains raw PDB files which are downloaded\n",
    "* ``root/processed`` - Contains processed graphs (in ``pytorch_geometric.data.Data`` format) saved as ``$PDB.pt / $UNIPROT_ID.pt``"
   ]
  },
  {
   "cell_type": "code",
   "execution_count": 2,
   "metadata": {},
   "outputs": [
    {
     "data": {
      "text/html": [
       "<pre style=\"white-space:pre;overflow-x:auto;line-height:normal;font-family:Menlo,'DejaVu Sans Mono',consolas,'Courier New',monospace\"><span style=\"color: #7fbfbf; text-decoration-color: #7fbfbf\">[01/30/23 14:22:09] </span><span style=\"color: #800000; text-decoration-color: #800000\">WARNING </span> To use the Graphein submodule                <a href=\"file:///home/atj39/github/graphein/graphein/protein/visualisation.py\" target=\"_blank\"><span style=\"color: #7f7f7f; text-decoration-color: #7f7f7f\">visualisation.py</span></a><span style=\"color: #7f7f7f; text-decoration-color: #7f7f7f\">:</span><a href=\"file:///home/atj39/github/graphein/graphein/protein/visualisation.py#35\" target=\"_blank\"><span style=\"color: #7f7f7f; text-decoration-color: #7f7f7f\">35</span></a>\n",
       "<span style=\"color: #7fbfbf; text-decoration-color: #7fbfbf\">                    </span>         graphein.protein.visualisation, you need to  <span style=\"color: #7f7f7f; text-decoration-color: #7f7f7f\">                   </span>\n",
       "<span style=\"color: #7fbfbf; text-decoration-color: #7fbfbf\">                    </span>         install: pytorch3d                           <span style=\"color: #7f7f7f; text-decoration-color: #7f7f7f\">                   </span>\n",
       "<span style=\"color: #7fbfbf; text-decoration-color: #7fbfbf\">                    </span>         To do so, use the following command: conda   <span style=\"color: #7f7f7f; text-decoration-color: #7f7f7f\">                   </span>\n",
       "<span style=\"color: #7fbfbf; text-decoration-color: #7fbfbf\">                    </span>         install -c pytorch3d pytorch3d               <span style=\"color: #7f7f7f; text-decoration-color: #7f7f7f\">                   </span>\n",
       "</pre>\n"
      ],
      "text/plain": [
       "\u001b[2;36m[01/30/23 14:22:09]\u001b[0m\u001b[2;36m \u001b[0m\u001b[31mWARNING \u001b[0m To use the Graphein submodule                \u001b]8;id=75456;file:///home/atj39/github/graphein/graphein/protein/visualisation.py\u001b\\\u001b[2mvisualisation.py\u001b[0m\u001b]8;;\u001b\\\u001b[2m:\u001b[0m\u001b]8;id=973046;file:///home/atj39/github/graphein/graphein/protein/visualisation.py#35\u001b\\\u001b[2m35\u001b[0m\u001b]8;;\u001b\\\n",
       "\u001b[2;36m                    \u001b[0m         graphein.protein.visualisation, you need to  \u001b[2m                   \u001b[0m\n",
       "\u001b[2;36m                    \u001b[0m         install: pytorch3d                           \u001b[2m                   \u001b[0m\n",
       "\u001b[2;36m                    \u001b[0m         To do so, use the following command: conda   \u001b[2m                   \u001b[0m\n",
       "\u001b[2;36m                    \u001b[0m         install -c pytorch3d pytorch3d               \u001b[2m                   \u001b[0m\n"
      ]
     },
     "metadata": {},
     "output_type": "display_data"
    },
    {
     "data": {
      "text/html": [
       "<pre style=\"white-space:pre;overflow-x:auto;line-height:normal;font-family:Menlo,'DejaVu Sans Mono',consolas,'Courier New',monospace\"><span style=\"color: #7fbfbf; text-decoration-color: #7fbfbf\">                    </span><span style=\"color: #800000; text-decoration-color: #800000\">WARNING </span> To use the Graphein submodule                       <a href=\"file:///home/atj39/github/graphein/graphein/protein/meshes.py\" target=\"_blank\"><span style=\"color: #7f7f7f; text-decoration-color: #7f7f7f\">meshes.py</span></a><span style=\"color: #7f7f7f; text-decoration-color: #7f7f7f\">:</span><a href=\"file:///home/atj39/github/graphein/graphein/protein/meshes.py#29\" target=\"_blank\"><span style=\"color: #7f7f7f; text-decoration-color: #7f7f7f\">29</span></a>\n",
       "<span style=\"color: #7fbfbf; text-decoration-color: #7fbfbf\">                    </span>         graphein.protein.meshes, you need to install:       <span style=\"color: #7f7f7f; text-decoration-color: #7f7f7f\">            </span>\n",
       "<span style=\"color: #7fbfbf; text-decoration-color: #7fbfbf\">                    </span>         pytorch3d                                           <span style=\"color: #7f7f7f; text-decoration-color: #7f7f7f\">            </span>\n",
       "<span style=\"color: #7fbfbf; text-decoration-color: #7fbfbf\">                    </span>         To do so, use the following command: conda install  <span style=\"color: #7f7f7f; text-decoration-color: #7f7f7f\">            </span>\n",
       "<span style=\"color: #7fbfbf; text-decoration-color: #7fbfbf\">                    </span>         -c pytorch3d pytorch3d                              <span style=\"color: #7f7f7f; text-decoration-color: #7f7f7f\">            </span>\n",
       "</pre>\n"
      ],
      "text/plain": [
       "\u001b[2;36m                   \u001b[0m\u001b[2;36m \u001b[0m\u001b[31mWARNING \u001b[0m To use the Graphein submodule                       \u001b]8;id=992158;file:///home/atj39/github/graphein/graphein/protein/meshes.py\u001b\\\u001b[2mmeshes.py\u001b[0m\u001b]8;;\u001b\\\u001b[2m:\u001b[0m\u001b]8;id=729074;file:///home/atj39/github/graphein/graphein/protein/meshes.py#29\u001b\\\u001b[2m29\u001b[0m\u001b]8;;\u001b\\\n",
       "\u001b[2;36m                    \u001b[0m         graphein.protein.meshes, you need to install:       \u001b[2m            \u001b[0m\n",
       "\u001b[2;36m                    \u001b[0m         pytorch3d                                           \u001b[2m            \u001b[0m\n",
       "\u001b[2;36m                    \u001b[0m         To do so, use the following command: conda install  \u001b[2m            \u001b[0m\n",
       "\u001b[2;36m                    \u001b[0m         -c pytorch3d pytorch3d                              \u001b[2m            \u001b[0m\n"
      ]
     },
     "metadata": {},
     "output_type": "display_data"
    },
    {
     "name": "stderr",
     "output_type": "stream",
     "text": [
      "Processing...\n",
      "100%|██████████| 5/5 [00:00<00:00,  9.37it/s]\n",
      "100%|██████████| 1/1 [00:00<00:00,  1.26it/s]\n",
      "Done!\n"
     ]
    }
   ],
   "source": [
    "import torch\n",
    "from graphein.ml import ProteinGraphDataset\n",
    "import graphein.protein as gp\n",
    "\n",
    "# Create some labels\n",
    "g_labels = [torch.randn([5])] * 5\n",
    "n_labels = [torch.randn([10])] * 5\n",
    "\n",
    "# Select some chains\n",
    "chain_selections = [\"all\", \"A\", \"all\", \"all\", \"all\"]\n",
    "\n",
    "\n",
    "# Create the dataset\n",
    "ds = ProteinGraphDataset(\n",
    "    root = \"../graphein/ml/datasets/test\",\n",
    "    pdb_codes=[\"3eiy\", \"4hhb\", \"1lds\"],\n",
    "    uniprot_ids=[\"Q5VSL9\", \"Q8W3K0\"],\n",
    "    graph_labels=g_labels,\n",
    "    node_labels=n_labels,\n",
    "    chain_selections=chain_selections,\n",
    "    graphein_config=gp.ProteinGraphConfig()\n",
    ")"
   ]
  },
  {
   "cell_type": "code",
   "execution_count": 3,
   "metadata": {},
   "outputs": [
    {
     "data": {
      "text/plain": [
       "{0: tensor([-1.0872,  0.0402,  0.2413, -1.7507,  0.7504, -0.4642, -0.6204,  1.1605,\n",
       "          0.3182, -0.1100]),\n",
       " 1: tensor([-1.0872,  0.0402,  0.2413, -1.7507,  0.7504, -0.4642, -0.6204,  1.1605,\n",
       "          0.3182, -0.1100]),\n",
       " 2: tensor([-1.0872,  0.0402,  0.2413, -1.7507,  0.7504, -0.4642, -0.6204,  1.1605,\n",
       "          0.3182, -0.1100]),\n",
       " 3: tensor([-1.0872,  0.0402,  0.2413, -1.7507,  0.7504, -0.4642, -0.6204,  1.1605,\n",
       "          0.3182, -0.1100]),\n",
       " 4: tensor([-1.0872,  0.0402,  0.2413, -1.7507,  0.7504, -0.4642, -0.6204,  1.1605,\n",
       "          0.3182, -0.1100])}"
      ]
     },
     "execution_count": 3,
     "metadata": {},
     "output_type": "execute_result"
    }
   ],
   "source": [
    "ds.node_label_map"
   ]
  },
  {
   "cell_type": "code",
   "execution_count": 4,
   "metadata": {},
   "outputs": [
    {
     "name": "stdout",
     "output_type": "stream",
     "text": [
      "DataBatch(edge_index=[2, 1233], node_id=[2], coords=[2], name=[2], dist_mat=[2], num_nodes=1235, graph_y=[10], node_y=[20], batch=[1235], ptr=[3])\n",
      "Graph labels:  tensor([ 0.3875,  0.1054, -0.4155,  0.6837, -0.2177,  0.3875,  0.1054, -0.4155,\n",
      "         0.6837, -0.2177])\n",
      "Node labels:  tensor([-1.0872,  0.0402,  0.2413, -1.7507,  0.7504, -0.4642, -0.6204,  1.1605,\n",
      "         0.3182, -0.1100, -1.0872,  0.0402,  0.2413, -1.7507,  0.7504, -0.4642,\n",
      "        -0.6204,  1.1605,  0.3182, -0.1100])\n"
     ]
    }
   ],
   "source": [
    "# Create a dataloader from dataset and inspect a batch\n",
    "from torch_geometric.loader import DataLoader\n",
    "\n",
    "dl = DataLoader(ds, batch_size=2, shuffle=True, drop_last=True)\n",
    "for i in dl:\n",
    "    print(i)\n",
    "    print(\"Graph labels: \", i.graph_y)\n",
    "    print(\"Node labels: \", i.node_y)\n",
    "    break"
   ]
  },
  {
   "cell_type": "markdown",
   "metadata": {},
   "source": [
    "#### Load from local path\n",
    "\n",
    "\n",
    "Creating a ``ProteinGraphDataset`` from a list of full path of pdb files:\n",
    "\n",
    "* ``root/raw`` - Will be empty since no pdb files are downloaded\n",
    "* ``root/processed`` - Contains processed graphs (in ``pytorch_geometric.data.Data`` format) saved as ``$PDB.pt / $UNIPROT_ID.pt``"
   ]
  },
  {
   "cell_type": "code",
   "execution_count": 5,
   "metadata": {},
   "outputs": [
    {
     "name": "stderr",
     "output_type": "stream",
     "text": [
      "Processing...\n"
     ]
    },
    {
     "name": "stdout",
     "output_type": "stream",
     "text": [
      "['../tests/protein/test_data/4hhb.pdb', '../tests/protein/test_data/1lds.pdb', '../tests/protein/test_data/alphafold_structure.pdb']\n"
     ]
    },
    {
     "name": "stderr",
     "output_type": "stream",
     "text": [
      "100%|██████████| 3/3 [00:00<00:00, 20.60it/s]\n",
      "100%|██████████| 1/1 [00:00<00:00,  3.09it/s]\n",
      "Done!\n"
     ]
    }
   ],
   "source": [
    "# import sys\n",
    "# sys.path.append('../')  # add system path for python\n",
    "\n",
    "import os \n",
    "from graphein.protein.config import ProteinGraphConfig\n",
    "from graphein.ml import ProteinGraphDataset, ProteinGraphListDataset\n",
    "import torch \n",
    "\n",
    "local_dir = \"../tests/protein/test_data/\"\n",
    "pdb_paths = [os.path.join(local_dir, pdb_path) for pdb_path in os.listdir(local_dir) if pdb_path.endswith(\".pdb\")]\n",
    "print(pdb_paths)\n",
    "\n",
    "# let's load local dataset from local_dir!\n",
    "ds = ProteinGraphDataset(\n",
    "    root = \"../graphein/ml/datasets/test\",\n",
    "    pdb_paths = pdb_paths,\n",
    "    graphein_config=ProteinGraphConfig(),\n",
    ")"
   ]
  },
  {
   "cell_type": "code",
   "execution_count": 6,
   "metadata": {},
   "outputs": [
    {
     "name": "stdout",
     "output_type": "stream",
     "text": [
      "DataBatch(edge_index=[2, 951], node_id=[2], coords=[2], name=[2], dist_mat=[2], num_nodes=956, batch=[956], ptr=[3])\n"
     ]
    }
   ],
   "source": [
    "# Create a dataloader from dataset and inspect a batch\n",
    "from torch_geometric.loader import DataLoader\n",
    "dl = DataLoader(ds, batch_size=2, shuffle=True, drop_last=True)\n",
    "for i in dl:\n",
    "    print(i)\n",
    "    break"
   ]
  },
  {
   "cell_type": "markdown",
   "metadata": {},
   "source": [
    "### InMemoryProteinGraphDataset\n",
    "\n",
    "[API Reference](https://graphein.ai/modules/graphein.ml.html#graphein.ml.datasets.torch_geometric_dataset.InMemoryProteinGraphDataset)\n",
    "\n",
    "#### Parameters\n",
    "```python\n",
    "InMemoryProteinGraphDataset(\n",
    "        root: str,                                                             \n",
    "        # Root directory where the dataset should be saved.\n",
    "        name: str,                                                             \n",
    "        # Name of the dataset. Will be saved to ``data_$name.pt``.\n",
    "        pdb_paths:Optional[List[str]] =None,\n",
    "        # List of full path of pdb files to load.\n",
    "        pdb_codes: Optional[List[str]] = None,                                 \n",
    "        #  List of PDB codes to download and parse from the PDB.\n",
    "        uniprot_ids: Optional[List[str]] = None,                               \n",
    "        # List of Uniprot IDs to download and parse from Alphafold Database\n",
    "        graph_label_map: Optional[Dict[str, torch.Tensor]] = None,             \n",
    "        # Dictionary mapping PDB/Uniprot IDs to graph-level labels.\n",
    "        node_label_map: Optional[Dict[str, torch.Tensor]] = None,              \n",
    "        # Dictionary mapping PDB/Uniprot IDs to node-level labels.\n",
    "        chain_selection_map: Optional[Dict[str, List[str]]] = None,            \n",
    "        # Dictionary mapping PDB/Uniprot IDs to the desired chains in the PDB files\n",
    "        graphein_config: ProteinGraphConfig = ProteinGraphConfig(),            \n",
    "        # Protein graph construction config\n",
    "        graph_format_convertor: GraphFormatConvertor = GraphFormatConvertor(   \n",
    "            src_format=\"nx\", dst_format=\"pyg\"\n",
    "        ),\n",
    "        # Conversion handler for graphs\n",
    "        graph_transformation_funcs: Optional[List[Callable]] = None,           \n",
    "        # List of functions that consume a nx.Graph and return a nx.Graph. Applied to graphs after construction but before conversion to pyg\n",
    "        transform: Optional[Callable] = None,                                  \n",
    "        # A function/transform that takes in a torch_geometric.data.Data object and returns a transformed version. The data object will be transformed before every access.\n",
    "        pdb_transform: Optional[List[Callable]] = None,\n",
    "        pre_transform: Optional[Callable] = None,                              \n",
    "        # A function/transform that takes in a torch_geometric.data.Data object and returns a transformed version. The data object will be transformed before being saved to disk\n",
    "        pre_filter: Optional[Callable] = None,                                 \n",
    "        # A function that takes in a torch_geometric.data.Data object and returns a boolean value, indicating whether the data object should be included in the final dataset\n",
    "        num_cores: int = 16,                                                   \n",
    "        # Number of cores to use for multiprocessing of graph construction\n",
    "        af_version: int = 2,                                                   \n",
    "        #  Version of AlphaFoldDB structures to use,\n",
    "    )\n",
    "```\n",
    "\n",
    "#### Directory Structure\n",
    "Creating an ``InMemoryProteinGraphDataset`` will create two directories under ``root``:\n",
    "* ``root/raw`` - Contains raw PDB files\n",
    "* ``root/processed`` - Contains processed datasets saved as ``data_{name}.pt``"
   ]
  },
  {
   "cell_type": "code",
   "execution_count": 7,
   "metadata": {},
   "outputs": [
    {
     "name": "stdout",
     "output_type": "stream",
     "text": [
      "Constructing Graphs...\n"
     ]
    },
    {
     "name": "stderr",
     "output_type": "stream",
     "text": [
      "Processing...\n",
      "100%|██████████| 5/5 [00:00<00:00,  5.05it/s]"
     ]
    },
    {
     "name": "stdout",
     "output_type": "stream",
     "text": [
      "Converting Graphs...\n",
      "Assigning graph Labels...\n",
      "Assigning node Labels...\n",
      "Saving Data...\n",
      "Done!\n"
     ]
    },
    {
     "name": "stderr",
     "output_type": "stream",
     "text": [
      "\n",
      "Done!\n"
     ]
    }
   ],
   "source": [
    "from graphein.ml import InMemoryProteinGraphDataset\n",
    "\n",
    "g_lab_map = {\"3eiy\": 1, \"4hhb\": 2, \"Q5VSL9\": 3, \"1lds\": 10, \"2ll6\": 4}\n",
    "node_lab_map = {\"3eiy\": 1, \"4hhb\": 2, \"Q5VSL9\": 3, \"1lds\": 10, \"2ll6\": 4}\n",
    "chain_selection_map = {\"4hhb\": \"A\"}\n",
    "\n",
    "ds = InMemoryProteinGraphDataset(\n",
    "    root = \"../graphein/ml/datasets/test\",\n",
    "    name=\"test\",\n",
    "    pdb_codes=[\"3eiy\", \"4hhb\", \"1lds\", \"2ll6\"],\n",
    "    uniprot_ids=[\"Q5VSL9\"],\n",
    "    graph_label_map=g_lab_map,\n",
    "    node_label_map=node_lab_map,\n",
    "    chain_selection_map=chain_selection_map\n",
    ")"
   ]
  },
  {
   "cell_type": "code",
   "execution_count": 8,
   "metadata": {},
   "outputs": [
    {
     "name": "stdout",
     "output_type": "stream",
     "text": [
      "DataBatch(edge_index=[2, 1009], node_id=[2], coords=[2], name=[2], dist_mat=[2], graph_y=[2], node_y=[2], num_nodes=1011, batch=[1011], ptr=[3])\n"
     ]
    }
   ],
   "source": [
    "# Create a dataloader from dataset and inspect a batch\n",
    "dl = DataLoader(ds, batch_size=2, shuffle=True, drop_last=True)\n",
    "for i in dl:\n",
    "    print(i)\n",
    "    break"
   ]
  },
  {
   "cell_type": "markdown",
   "metadata": {},
   "source": [
    "#### Load from local path\n",
    "\n",
    "\n",
    "Creating an ``InMemoryProteinGraphDataset`` from a list of full path of pdb files:\n",
    "\n",
    "* ``root/raw`` - Will be empty since no pdb files are downloaded\n",
    "* ``root/processed`` - Contains processed datasets saved as ``data_{name}.pt``\n"
   ]
  },
  {
   "cell_type": "code",
   "execution_count": 9,
   "metadata": {},
   "outputs": [
    {
     "name": "stdout",
     "output_type": "stream",
     "text": [
      "['../tests/protein/test_data/4hhb.pdb', '../tests/protein/test_data/1lds.pdb', '../tests/protein/test_data/alphafold_structure.pdb']\n"
     ]
    }
   ],
   "source": [
    "from graphein.ml.datasets.torch_geometric_dataset import InMemoryProteinGraphDataset\n",
    "\n",
    "\n",
    "local_dir = \"../tests/protein/test_data/\"\n",
    "pdb_paths = [os.path.join(local_dir, pdb_path) for pdb_path in os.listdir(local_dir) if pdb_path.endswith(\".pdb\")]\n",
    "print(pdb_paths)\n",
    "\n",
    "# let's load local dataset from local_dir!\n",
    "ds = InMemoryProteinGraphDataset(\n",
    "    root = \"../graphein/ml/datasets/test\",\n",
    "    name = \"test\",\n",
    "    pdb_paths = pdb_paths,\n",
    ")\n"
   ]
  },
  {
   "cell_type": "code",
   "execution_count": 10,
   "metadata": {},
   "outputs": [
    {
     "name": "stdout",
     "output_type": "stream",
     "text": [
      "DataBatch(edge_index=[2, 236], node_id=[2], coords=[2], name=[2], dist_mat=[2], graph_y=[2], node_y=[2], num_nodes=238, batch=[238], ptr=[3])\n"
     ]
    }
   ],
   "source": [
    "# Create a dataloader from dataset and inspect a batch\n",
    "dl = DataLoader(ds, batch_size=2, shuffle=True, drop_last=True)\n",
    "for i in dl:\n",
    "    print(i)\n",
    "    break"
   ]
  },
  {
   "cell_type": "markdown",
   "metadata": {},
   "source": [
    "### ProteinGraphListDataset\n",
    "\n",
    "[API Reference](https://graphein.ai/modules/graphein.ml.html#graphein.ml.datasets.torch_geometric_dataset.ProteinGraphListDataset)\n",
    "\n",
    "The `ProteinGraphListDataset` class is a lightweight class for wrapping a list of pre-computed `pytorch_geometric.data.Data` graphs.\n",
    "\n",
    "#### Parameters\n",
    "\n",
    "```python\n",
    "ProteinGraphListDataset(\n",
    "    root: str,                              # Root directory where the dataset is stored.\n",
    "    data_list: List[Data],                  # List of protein graphs as PyTorch Geometric Data objects.\n",
    "    name: str,                              # Name of dataset. Data will be saved as ``data_{name}.pt``.\n",
    "    transform: Optional[Callable]=None      # A function/transform that takes in a torch_geometric.data.Data object and returns a transformed version. The data object will be transformed before every access.\n",
    "    )\n",
    "```"
   ]
  },
  {
   "cell_type": "code",
   "execution_count": 11,
   "metadata": {},
   "outputs": [
    {
     "name": "stderr",
     "output_type": "stream",
     "text": [
      "100%|██████████| 4/4 [00:03<00:00,  1.23it/s]\n"
     ]
    },
    {
     "data": {
      "text/html": [
       "<pre style=\"white-space:pre;overflow-x:auto;line-height:normal;font-family:Menlo,'DejaVu Sans Mono',consolas,'Courier New',monospace\"><span style=\"color: #7fbfbf; text-decoration-color: #7fbfbf\">[01/30/23 14:22:40] </span><span style=\"color: #008000; text-decoration-color: #008000\">DEBUG   </span> Found <span style=\"color: #008080; text-decoration-color: #008080; font-weight: bold\">174</span> nodes in the chain subgraph.          <a href=\"file:///home/atj39/github/graphein/graphein/protein/subgraphs.py\" target=\"_blank\"><span style=\"color: #7f7f7f; text-decoration-color: #7f7f7f\">subgraphs.py</span></a><span style=\"color: #7f7f7f; text-decoration-color: #7f7f7f\">:</span><a href=\"file:///home/atj39/github/graphein/graphein/protein/subgraphs.py#266\" target=\"_blank\"><span style=\"color: #7f7f7f; text-decoration-color: #7f7f7f\">266</span></a>\n",
       "</pre>\n"
      ],
      "text/plain": [
       "\u001b[2;36m[01/30/23 14:22:40]\u001b[0m\u001b[2;36m \u001b[0m\u001b[32mDEBUG   \u001b[0m Found \u001b[1;36m174\u001b[0m nodes in the chain subgraph.          \u001b]8;id=761748;file:///home/atj39/github/graphein/graphein/protein/subgraphs.py\u001b\\\u001b[2msubgraphs.py\u001b[0m\u001b]8;;\u001b\\\u001b[2m:\u001b[0m\u001b]8;id=711551;file:///home/atj39/github/graphein/graphein/protein/subgraphs.py#266\u001b\\\u001b[2m266\u001b[0m\u001b]8;;\u001b\\\n"
      ]
     },
     "metadata": {},
     "output_type": "display_data"
    },
    {
     "data": {
      "text/html": [
       "<pre style=\"white-space:pre;overflow-x:auto;line-height:normal;font-family:Menlo,'DejaVu Sans Mono',consolas,'Courier New',monospace\"><span style=\"color: #7fbfbf; text-decoration-color: #7fbfbf\">                    </span><span style=\"color: #008000; text-decoration-color: #008000\">DEBUG   </span> Creating subgraph from nodes: <span style=\"font-weight: bold\">[</span><span style=\"color: #008000; text-decoration-color: #008000\">'A:PHE:16'</span>,       <a href=\"file:///home/atj39/github/graphein/graphein/protein/subgraphs.py\" target=\"_blank\"><span style=\"color: #7f7f7f; text-decoration-color: #7f7f7f\">subgraphs.py</span></a><span style=\"color: #7f7f7f; text-decoration-color: #7f7f7f\">:</span><a href=\"file:///home/atj39/github/graphein/graphein/protein/subgraphs.py#57\" target=\"_blank\"><span style=\"color: #7f7f7f; text-decoration-color: #7f7f7f\">57</span></a>\n",
       "<span style=\"color: #7fbfbf; text-decoration-color: #7fbfbf\">                    </span>         <span style=\"color: #008000; text-decoration-color: #008000\">'A:TYR:52'</span>, <span style=\"color: #008000; text-decoration-color: #008000\">'A:LYS:35'</span>, <span style=\"color: #008000; text-decoration-color: #008000\">'A:GLN:141'</span>, <span style=\"color: #008000; text-decoration-color: #008000\">'A:ALA:33'</span>, <span style=\"color: #7f7f7f; text-decoration-color: #7f7f7f\">               </span>\n",
       "<span style=\"color: #7fbfbf; text-decoration-color: #7fbfbf\">                    </span>         <span style=\"color: #008000; text-decoration-color: #008000\">'A:TYR:130'</span>, <span style=\"color: #008000; text-decoration-color: #008000\">'A:PRO:28'</span>, <span style=\"color: #008000; text-decoration-color: #008000\">'A:GLY:83'</span>, <span style=\"color: #008000; text-decoration-color: #008000\">'A:ILE:20'</span>, <span style=\"color: #7f7f7f; text-decoration-color: #7f7f7f\">               </span>\n",
       "<span style=\"color: #7fbfbf; text-decoration-color: #7fbfbf\">                    </span>         <span style=\"color: #008000; text-decoration-color: #008000\">'A:THR:118'</span>, <span style=\"color: #008000; text-decoration-color: #008000\">'A:ALA:88'</span>, <span style=\"color: #008000; text-decoration-color: #008000\">'A:PRO:128'</span>,            <span style=\"color: #7f7f7f; text-decoration-color: #7f7f7f\">               </span>\n",
       "<span style=\"color: #7fbfbf; text-decoration-color: #7fbfbf\">                    </span>         <span style=\"color: #008000; text-decoration-color: #008000\">'A:ASP:15'</span>, <span style=\"color: #008000; text-decoration-color: #008000\">'A:ILE:124'</span>, <span style=\"color: #008000; text-decoration-color: #008000\">'A:PRO:69'</span>, <span style=\"color: #008000; text-decoration-color: #008000\">'A:GLY:92'</span>, <span style=\"color: #7f7f7f; text-decoration-color: #7f7f7f\">               </span>\n",
       "<span style=\"color: #7fbfbf; text-decoration-color: #7fbfbf\">                    </span>         <span style=\"color: #008000; text-decoration-color: #008000\">'A:VAL:6'</span>, <span style=\"color: #008000; text-decoration-color: #008000\">'A:PRO:53'</span>, <span style=\"color: #008000; text-decoration-color: #008000\">'A:LYS:149'</span>, <span style=\"color: #008000; text-decoration-color: #008000\">'A:GLN:61'</span>,  <span style=\"color: #7f7f7f; text-decoration-color: #7f7f7f\">               </span>\n",
       "<span style=\"color: #7fbfbf; text-decoration-color: #7fbfbf\">                    </span>         <span style=\"color: #008000; text-decoration-color: #008000\">'A:ASP:168'</span>, <span style=\"color: #008000; text-decoration-color: #008000\">'A:ALA:82'</span>, <span style=\"color: #008000; text-decoration-color: #008000\">'A:GLY:38'</span>, <span style=\"color: #008000; text-decoration-color: #008000\">'A:THR:97'</span>, <span style=\"color: #7f7f7f; text-decoration-color: #7f7f7f\">               </span>\n",
       "<span style=\"color: #7fbfbf; text-decoration-color: #7fbfbf\">                    </span>         <span style=\"color: #008000; text-decoration-color: #008000\">'A:GLU:27'</span>, <span style=\"color: #008000; text-decoration-color: #008000\">'A:THR:167'</span>, <span style=\"color: #008000; text-decoration-color: #008000\">'A:GLY:148'</span>,            <span style=\"color: #7f7f7f; text-decoration-color: #7f7f7f\">               </span>\n",
       "<span style=\"color: #7fbfbf; text-decoration-color: #7fbfbf\">                    </span>         <span style=\"color: #008000; text-decoration-color: #008000\">'A:LEU:63'</span>, <span style=\"color: #008000; text-decoration-color: #008000\">'A:ASP:112'</span>, <span style=\"color: #008000; text-decoration-color: #008000\">'A:ILE:159'</span>,            <span style=\"color: #7f7f7f; text-decoration-color: #7f7f7f\">               </span>\n",
       "<span style=\"color: #7fbfbf; text-decoration-color: #7fbfbf\">                    </span>         <span style=\"color: #008000; text-decoration-color: #008000\">'A:LEU:81'</span>, <span style=\"color: #008000; text-decoration-color: #008000\">'A:VAL:42'</span>, <span style=\"color: #008000; text-decoration-color: #008000\">'A:ASP:66'</span>, <span style=\"color: #008000; text-decoration-color: #008000\">'A:VAL:114'</span>, <span style=\"color: #7f7f7f; text-decoration-color: #7f7f7f\">               </span>\n",
       "<span style=\"color: #7fbfbf; text-decoration-color: #7fbfbf\">                    </span>         <span style=\"color: #008000; text-decoration-color: #008000\">'A:PRO:79'</span>, <span style=\"color: #008000; text-decoration-color: #008000\">'A:THR:48'</span>, <span style=\"color: #008000; text-decoration-color: #008000\">'A:ASP:11'</span>, <span style=\"color: #008000; text-decoration-color: #008000\">'A:VAL:170'</span>, <span style=\"color: #7f7f7f; text-decoration-color: #7f7f7f\">               </span>\n",
       "<span style=\"color: #7fbfbf; text-decoration-color: #7fbfbf\">                    </span>         <span style=\"color: #008000; text-decoration-color: #008000\">'A:ALA:171'</span>, <span style=\"color: #008000; text-decoration-color: #008000\">'A:LYS:143'</span>, <span style=\"color: #008000; text-decoration-color: #008000\">'A:ASP:126'</span>,           <span style=\"color: #7f7f7f; text-decoration-color: #7f7f7f\">               </span>\n",
       "<span style=\"color: #7fbfbf; text-decoration-color: #7fbfbf\">                    </span>         <span style=\"color: #008000; text-decoration-color: #008000\">'A:PHE:173'</span>, <span style=\"color: #008000; text-decoration-color: #008000\">'A:VAL:70'</span>, <span style=\"color: #008000; text-decoration-color: #008000\">'A:ILE:22'</span>,             <span style=\"color: #7f7f7f; text-decoration-color: #7f7f7f\">               </span>\n",
       "<span style=\"color: #7fbfbf; text-decoration-color: #7fbfbf\">                    </span>         <span style=\"color: #008000; text-decoration-color: #008000\">'A:PHE:138'</span>, <span style=\"color: #008000; text-decoration-color: #008000\">'A:LYS:105'</span>, <span style=\"color: #008000; text-decoration-color: #008000\">'A:LYS:175'</span>,           <span style=\"color: #7f7f7f; text-decoration-color: #7f7f7f\">               </span>\n",
       "<span style=\"color: #7fbfbf; text-decoration-color: #7fbfbf\">                    </span>         <span style=\"color: #008000; text-decoration-color: #008000\">'A:PRO:23'</span>, <span style=\"color: #008000; text-decoration-color: #008000\">'A:LYS:95'</span>, <span style=\"color: #008000; text-decoration-color: #008000\">'A:ALA:161'</span>,             <span style=\"color: #7f7f7f; text-decoration-color: #7f7f7f\">               </span>\n",
       "<span style=\"color: #7fbfbf; text-decoration-color: #7fbfbf\">                    </span>         <span style=\"color: #008000; text-decoration-color: #008000\">'A:HIS:163'</span>, <span style=\"color: #008000; text-decoration-color: #008000\">'A:PRO:7'</span>, <span style=\"color: #008000; text-decoration-color: #008000\">'A:GLU:21'</span>, <span style=\"color: #008000; text-decoration-color: #008000\">'A:HIS:111'</span>, <span style=\"color: #7f7f7f; text-decoration-color: #7f7f7f\">               </span>\n",
       "<span style=\"color: #7fbfbf; text-decoration-color: #7fbfbf\">                    </span>         <span style=\"color: #008000; text-decoration-color: #008000\">'A:GLN:134'</span>, <span style=\"color: #008000; text-decoration-color: #008000\">'A:ASP:157'</span>, <span style=\"color: #008000; text-decoration-color: #008000\">'A:LYS:164'</span>,           <span style=\"color: #7f7f7f; text-decoration-color: #7f7f7f\">               </span>\n",
       "<span style=\"color: #7fbfbf; text-decoration-color: #7fbfbf\">                    </span>         <span style=\"color: #008000; text-decoration-color: #008000\">'A:ILE:19'</span>, <span style=\"color: #008000; text-decoration-color: #008000\">'A:ILE:46'</span>, <span style=\"color: #008000; text-decoration-color: #008000\">'A:PRO:110'</span>,             <span style=\"color: #7f7f7f; text-decoration-color: #7f7f7f\">               </span>\n",
       "<span style=\"color: #7fbfbf; text-decoration-color: #7fbfbf\">                    </span>         <span style=\"color: #008000; text-decoration-color: #008000\">'A:LYS:132'</span>, <span style=\"color: #008000; text-decoration-color: #008000\">'A:VAL:54'</span>, <span style=\"color: #008000; text-decoration-color: #008000\">'A:LYS:147'</span>,            <span style=\"color: #7f7f7f; text-decoration-color: #7f7f7f\">               </span>\n",
       "<span style=\"color: #7fbfbf; text-decoration-color: #7fbfbf\">                    </span>         <span style=\"color: #008000; text-decoration-color: #008000\">'A:ALA:24'</span>, <span style=\"color: #008000; text-decoration-color: #008000\">'A:CYS:115'</span>, <span style=\"color: #008000; text-decoration-color: #008000\">'A:ASP:43'</span>,             <span style=\"color: #7f7f7f; text-decoration-color: #7f7f7f\">               </span>\n",
       "<span style=\"color: #7fbfbf; text-decoration-color: #7fbfbf\">                    </span>         <span style=\"color: #008000; text-decoration-color: #008000\">'A:LYS:113'</span>, <span style=\"color: #008000; text-decoration-color: #008000\">'A:HIS:137'</span>, <span style=\"color: #008000; text-decoration-color: #008000\">'A:LYS:174'</span>,           <span style=\"color: #7f7f7f; text-decoration-color: #7f7f7f\">               </span>\n",
       "<span style=\"color: #7fbfbf; text-decoration-color: #7fbfbf\">                    </span>         <span style=\"color: #008000; text-decoration-color: #008000\">'A:PHE:58'</span>, <span style=\"color: #008000; text-decoration-color: #008000\">'A:ILE:75'</span>, <span style=\"color: #008000; text-decoration-color: #008000\">'A:SER:26'</span>, <span style=\"color: #008000; text-decoration-color: #008000\">'A:GLY:9'</span>,   <span style=\"color: #7f7f7f; text-decoration-color: #7f7f7f\">               </span>\n",
       "<span style=\"color: #7fbfbf; text-decoration-color: #7fbfbf\">                    </span>         <span style=\"color: #008000; text-decoration-color: #008000\">'A:LEU:73'</span>, <span style=\"color: #008000; text-decoration-color: #008000\">'A:GLY:47'</span>, <span style=\"color: #008000; text-decoration-color: #008000\">'A:LEU:80'</span>, <span style=\"color: #008000; text-decoration-color: #008000\">'A:GLU:154'</span>, <span style=\"color: #7f7f7f; text-decoration-color: #7f7f7f\">               </span>\n",
       "<span style=\"color: #7fbfbf; text-decoration-color: #7fbfbf\">                    </span>         <span style=\"color: #008000; text-decoration-color: #008000\">'A:PRO:60'</span>, <span style=\"color: #008000; text-decoration-color: #008000\">'A:SER:2'</span>, <span style=\"color: #008000; text-decoration-color: #008000\">'A:PHE:45'</span>, <span style=\"color: #008000; text-decoration-color: #008000\">'A:ASN:17'</span>,   <span style=\"color: #7f7f7f; text-decoration-color: #7f7f7f\">               </span>\n",
       "<span style=\"color: #7fbfbf; text-decoration-color: #7fbfbf\">                    </span>         <span style=\"color: #008000; text-decoration-color: #008000\">'A:ALA:144'</span>, <span style=\"color: #008000; text-decoration-color: #008000\">'A:THR:76'</span>, <span style=\"color: #008000; text-decoration-color: #008000\">'A:VAL:86'</span>, <span style=\"color: #008000; text-decoration-color: #008000\">'A:VAL:18'</span>, <span style=\"color: #7f7f7f; text-decoration-color: #7f7f7f\">               </span>\n",
       "<span style=\"color: #7fbfbf; text-decoration-color: #7fbfbf\">                    </span>         <span style=\"color: #008000; text-decoration-color: #008000\">'A:PRO:116'</span>, <span style=\"color: #008000; text-decoration-color: #008000\">'A:ASP:68'</span>, <span style=\"color: #008000; text-decoration-color: #008000\">'A:ARG:89'</span>, <span style=\"color: #008000; text-decoration-color: #008000\">'A:ASN:55'</span>, <span style=\"color: #7f7f7f; text-decoration-color: #7f7f7f\">               </span>\n",
       "<span style=\"color: #7fbfbf; text-decoration-color: #7fbfbf\">                    </span>         <span style=\"color: #008000; text-decoration-color: #008000\">'A:VAL:74'</span>, <span style=\"color: #008000; text-decoration-color: #008000\">'A:GLU:140'</span>, <span style=\"color: #008000; text-decoration-color: #008000\">'A:SER:4'</span>, <span style=\"color: #008000; text-decoration-color: #008000\">'A:VAL:85'</span>,  <span style=\"color: #7f7f7f; text-decoration-color: #7f7f7f\">               </span>\n",
       "<span style=\"color: #7fbfbf; text-decoration-color: #7fbfbf\">                    </span>         <span style=\"color: #008000; text-decoration-color: #008000\">'A:GLU:165'</span>, <span style=\"color: #008000; text-decoration-color: #008000\">'A:GLY:169'</span>, <span style=\"color: #008000; text-decoration-color: #008000\">'A:TRP:156'</span>,           <span style=\"color: #7f7f7f; text-decoration-color: #7f7f7f\">               </span>\n",
       "<span style=\"color: #7fbfbf; text-decoration-color: #7fbfbf\">                    </span>         <span style=\"color: #008000; text-decoration-color: #008000\">'A:ASN:5'</span>, <span style=\"color: #008000; text-decoration-color: #008000\">'A:SER:64'</span>, <span style=\"color: #008000; text-decoration-color: #008000\">'A:VAL:107'</span>, <span style=\"color: #008000; text-decoration-color: #008000\">'A:SER:123'</span>, <span style=\"color: #7f7f7f; text-decoration-color: #7f7f7f\">               </span>\n",
       "<span style=\"color: #7fbfbf; text-decoration-color: #7fbfbf\">                    </span>         <span style=\"color: #008000; text-decoration-color: #008000\">'A:PRO:13'</span>, <span style=\"color: #008000; text-decoration-color: #008000\">'A:PHE:3'</span>, <span style=\"color: #008000; text-decoration-color: #008000\">'A:VAL:72'</span>, <span style=\"color: #008000; text-decoration-color: #008000\">'A:THR:62'</span>,   <span style=\"color: #7f7f7f; text-decoration-color: #7f7f7f\">               </span>\n",
       "<span style=\"color: #7fbfbf; text-decoration-color: #7fbfbf\">                    </span>         <span style=\"color: #008000; text-decoration-color: #008000\">'A:MET:50'</span>, <span style=\"color: #008000; text-decoration-color: #008000\">'A:TRP:150'</span>, <span style=\"color: #008000; text-decoration-color: #008000\">'A:VAL:153'</span>,            <span style=\"color: #7f7f7f; text-decoration-color: #7f7f7f\">               </span>\n",
       "<span style=\"color: #7fbfbf; text-decoration-color: #7fbfbf\">                    </span>         <span style=\"color: #008000; text-decoration-color: #008000\">'A:VAL:102'</span>, <span style=\"color: #008000; text-decoration-color: #008000\">'A:ILE:135'</span>, <span style=\"color: #008000; text-decoration-color: #008000\">'A:LEU:39'</span>,            <span style=\"color: #7f7f7f; text-decoration-color: #7f7f7f\">               </span>\n",
       "<span style=\"color: #7fbfbf; text-decoration-color: #7fbfbf\">                    </span>         <span style=\"color: #008000; text-decoration-color: #008000\">'A:ALA:129'</span>, <span style=\"color: #008000; text-decoration-color: #008000\">'A:LEU:37'</span>, <span style=\"color: #008000; text-decoration-color: #008000\">'A:VAL:41'</span>,             <span style=\"color: #7f7f7f; text-decoration-color: #7f7f7f\">               </span>\n",
       "<span style=\"color: #7fbfbf; text-decoration-color: #7fbfbf\">                    </span>         <span style=\"color: #008000; text-decoration-color: #008000\">'A:LEU:121'</span>, <span style=\"color: #008000; text-decoration-color: #008000\">'A:TYR:142'</span>, <span style=\"color: #008000; text-decoration-color: #008000\">'A:TYR:56'</span>,            <span style=\"color: #7f7f7f; text-decoration-color: #7f7f7f\">               </span>\n",
       "<span style=\"color: #7fbfbf; text-decoration-color: #7fbfbf\">                    </span>         <span style=\"color: #008000; text-decoration-color: #008000\">'A:GLU:146'</span>, <span style=\"color: #008000; text-decoration-color: #008000\">'A:ASP:98'</span>, <span style=\"color: #008000; text-decoration-color: #008000\">'A:ALA:108'</span>,            <span style=\"color: #7f7f7f; text-decoration-color: #7f7f7f\">               </span>\n",
       "<span style=\"color: #7fbfbf; text-decoration-color: #7fbfbf\">                    </span>         <span style=\"color: #008000; text-decoration-color: #008000\">'A:GLY:158'</span>, <span style=\"color: #008000; text-decoration-color: #008000\">'A:ALA:8'</span>, <span style=\"color: #008000; text-decoration-color: #008000\">'A:SER:84'</span>, <span style=\"color: #008000; text-decoration-color: #008000\">'A:GLN:14'</span>,  <span style=\"color: #7f7f7f; text-decoration-color: #7f7f7f\">               </span>\n",
       "<span style=\"color: #7fbfbf; text-decoration-color: #7fbfbf\">                    </span>         <span style=\"color: #008000; text-decoration-color: #008000\">'A:ARG:87'</span>, <span style=\"color: #008000; text-decoration-color: #008000\">'A:MET:117'</span>, <span style=\"color: #008000; text-decoration-color: #008000\">'A:TYR:31'</span>, <span style=\"color: #008000; text-decoration-color: #008000\">'A:GLU:32'</span>, <span style=\"color: #7f7f7f; text-decoration-color: #7f7f7f\">               </span>\n",
       "<span style=\"color: #7fbfbf; text-decoration-color: #7fbfbf\">                    </span>         <span style=\"color: #008000; text-decoration-color: #008000\">'A:LEU:145'</span>, <span style=\"color: #008000; text-decoration-color: #008000\">'A:GLU:99'</span>, <span style=\"color: #008000; text-decoration-color: #008000\">'A:ARG:51'</span>,             <span style=\"color: #7f7f7f; text-decoration-color: #7f7f7f\">               </span>\n",
       "<span style=\"color: #7fbfbf; text-decoration-color: #7fbfbf\">                    </span>         <span style=\"color: #008000; text-decoration-color: #008000\">'A:ALA:162'</span>, <span style=\"color: #008000; text-decoration-color: #008000\">'A:LYS:136'</span>, <span style=\"color: #008000; text-decoration-color: #008000\">'A:ALA:36'</span>,            <span style=\"color: #7f7f7f; text-decoration-color: #7f7f7f\">               </span>\n",
       "<span style=\"color: #7fbfbf; text-decoration-color: #7fbfbf\">                    </span>         <span style=\"color: #008000; text-decoration-color: #008000\">'A:GLY:67'</span>, <span style=\"color: #008000; text-decoration-color: #008000\">'A:LEU:94'</span>, <span style=\"color: #008000; text-decoration-color: #008000\">'A:ALA:90'</span>, <span style=\"color: #008000; text-decoration-color: #008000\">'A:LEU:131'</span>, <span style=\"color: #7f7f7f; text-decoration-color: #7f7f7f\">               </span>\n",
       "<span style=\"color: #7fbfbf; text-decoration-color: #7fbfbf\">                    </span>         <span style=\"color: #008000; text-decoration-color: #008000\">'A:GLN:25'</span>, <span style=\"color: #008000; text-decoration-color: #008000\">'A:GLY:101'</span>, <span style=\"color: #008000; text-decoration-color: #008000\">'A:SER:100'</span>,            <span style=\"color: #7f7f7f; text-decoration-color: #7f7f7f\">               </span>\n",
       "<span style=\"color: #7fbfbf; text-decoration-color: #7fbfbf\">                    </span>         <span style=\"color: #008000; text-decoration-color: #008000\">'A:ASP:103'</span>, <span style=\"color: #008000; text-decoration-color: #008000\">'A:PRO:77'</span>, <span style=\"color: #008000; text-decoration-color: #008000\">'A:ALA:104'</span>,            <span style=\"color: #7f7f7f; text-decoration-color: #7f7f7f\">               </span>\n",
       "<span style=\"color: #7fbfbf; text-decoration-color: #7fbfbf\">                    </span>         <span style=\"color: #008000; text-decoration-color: #008000\">'A:VAL:151'</span>, <span style=\"color: #008000; text-decoration-color: #008000\">'A:ASN:172'</span>, <span style=\"color: #008000; text-decoration-color: #008000\">'A:LEU:12'</span>,            <span style=\"color: #7f7f7f; text-decoration-color: #7f7f7f\">               </span>\n",
       "<span style=\"color: #7fbfbf; text-decoration-color: #7fbfbf\">                    </span>         <span style=\"color: #008000; text-decoration-color: #008000\">'A:ILE:166'</span>, <span style=\"color: #008000; text-decoration-color: #008000\">'A:ASN:120'</span>, <span style=\"color: #008000; text-decoration-color: #008000\">'A:LEU:106'</span>,           <span style=\"color: #7f7f7f; text-decoration-color: #7f7f7f\">               </span>\n",
       "<span style=\"color: #7fbfbf; text-decoration-color: #7fbfbf\">                    </span>         <span style=\"color: #008000; text-decoration-color: #008000\">'A:LEU:40'</span>, <span style=\"color: #008000; text-decoration-color: #008000\">'A:LEU:91'</span>, <span style=\"color: #008000; text-decoration-color: #008000\">'A:GLY:155'</span>,             <span style=\"color: #7f7f7f; text-decoration-color: #7f7f7f\">               </span>\n",
       "<span style=\"color: #7fbfbf; text-decoration-color: #7fbfbf\">                    </span>         <span style=\"color: #008000; text-decoration-color: #008000\">'A:ASP:160'</span>, <span style=\"color: #008000; text-decoration-color: #008000\">'A:LYS:152'</span>, <span style=\"color: #008000; text-decoration-color: #008000\">'A:ASP:71'</span>,            <span style=\"color: #7f7f7f; text-decoration-color: #7f7f7f\">               </span>\n",
       "<span style=\"color: #7fbfbf; text-decoration-color: #7fbfbf\">                    </span>         <span style=\"color: #008000; text-decoration-color: #008000\">'A:GLY:49'</span>, <span style=\"color: #008000; text-decoration-color: #008000\">'A:GLY:57'</span>, <span style=\"color: #008000; text-decoration-color: #008000\">'A:PHE:78'</span>, <span style=\"color: #008000; text-decoration-color: #008000\">'A:ARG:44'</span>,  <span style=\"color: #7f7f7f; text-decoration-color: #7f7f7f\">               </span>\n",
       "<span style=\"color: #7fbfbf; text-decoration-color: #7fbfbf\">                    </span>         <span style=\"color: #008000; text-decoration-color: #008000\">'A:GLY:65'</span>, <span style=\"color: #008000; text-decoration-color: #008000\">'A:ILE:59'</span>, <span style=\"color: #008000; text-decoration-color: #008000\">'A:PHE:139'</span>, <span style=\"color: #008000; text-decoration-color: #008000\">'A:LYS:30'</span>, <span style=\"color: #7f7f7f; text-decoration-color: #7f7f7f\">               </span>\n",
       "<span style=\"color: #7fbfbf; text-decoration-color: #7fbfbf\">                    </span>         <span style=\"color: #008000; text-decoration-color: #008000\">'A:ALA:119'</span>, <span style=\"color: #008000; text-decoration-color: #008000\">'A:VAL:109'</span>, <span style=\"color: #008000; text-decoration-color: #008000\">'A:VAL:127'</span>,           <span style=\"color: #7f7f7f; text-decoration-color: #7f7f7f\">               </span>\n",
       "<span style=\"color: #7fbfbf; text-decoration-color: #7fbfbf\">                    </span>         <span style=\"color: #008000; text-decoration-color: #008000\">'A:LYS:10'</span>, <span style=\"color: #008000; text-decoration-color: #008000\">'A:MET:93'</span>, <span style=\"color: #008000; text-decoration-color: #008000\">'A:MET:96'</span>, <span style=\"color: #008000; text-decoration-color: #008000\">'A:ASP:125'</span>, <span style=\"color: #7f7f7f; text-decoration-color: #7f7f7f\">               </span>\n",
       "<span style=\"color: #7fbfbf; text-decoration-color: #7fbfbf\">                    </span>         <span style=\"color: #008000; text-decoration-color: #008000\">'A:LYS:122'</span>, <span style=\"color: #008000; text-decoration-color: #008000\">'A:ASP:133'</span>, <span style=\"color: #008000; text-decoration-color: #008000\">'A:VAL:29'</span>,            <span style=\"color: #7f7f7f; text-decoration-color: #7f7f7f\">               </span>\n",
       "<span style=\"color: #7fbfbf; text-decoration-color: #7fbfbf\">                    </span>         <span style=\"color: #008000; text-decoration-color: #008000\">'A:ASP:34'</span><span style=\"font-weight: bold\">]</span>.                                     <span style=\"color: #7f7f7f; text-decoration-color: #7f7f7f\">               </span>\n",
       "</pre>\n"
      ],
      "text/plain": [
       "\u001b[2;36m                   \u001b[0m\u001b[2;36m \u001b[0m\u001b[32mDEBUG   \u001b[0m Creating subgraph from nodes: \u001b[1m[\u001b[0m\u001b[32m'A:PHE:16'\u001b[0m,       \u001b]8;id=911253;file:///home/atj39/github/graphein/graphein/protein/subgraphs.py\u001b\\\u001b[2msubgraphs.py\u001b[0m\u001b]8;;\u001b\\\u001b[2m:\u001b[0m\u001b]8;id=919579;file:///home/atj39/github/graphein/graphein/protein/subgraphs.py#57\u001b\\\u001b[2m57\u001b[0m\u001b]8;;\u001b\\\n",
       "\u001b[2;36m                    \u001b[0m         \u001b[32m'A:TYR:52'\u001b[0m, \u001b[32m'A:LYS:35'\u001b[0m, \u001b[32m'A:GLN:141'\u001b[0m, \u001b[32m'A:ALA:33'\u001b[0m, \u001b[2m               \u001b[0m\n",
       "\u001b[2;36m                    \u001b[0m         \u001b[32m'A:TYR:130'\u001b[0m, \u001b[32m'A:PRO:28'\u001b[0m, \u001b[32m'A:GLY:83'\u001b[0m, \u001b[32m'A:ILE:20'\u001b[0m, \u001b[2m               \u001b[0m\n",
       "\u001b[2;36m                    \u001b[0m         \u001b[32m'A:THR:118'\u001b[0m, \u001b[32m'A:ALA:88'\u001b[0m, \u001b[32m'A:PRO:128'\u001b[0m,            \u001b[2m               \u001b[0m\n",
       "\u001b[2;36m                    \u001b[0m         \u001b[32m'A:ASP:15'\u001b[0m, \u001b[32m'A:ILE:124'\u001b[0m, \u001b[32m'A:PRO:69'\u001b[0m, \u001b[32m'A:GLY:92'\u001b[0m, \u001b[2m               \u001b[0m\n",
       "\u001b[2;36m                    \u001b[0m         \u001b[32m'A:VAL:6'\u001b[0m, \u001b[32m'A:PRO:53'\u001b[0m, \u001b[32m'A:LYS:149'\u001b[0m, \u001b[32m'A:GLN:61'\u001b[0m,  \u001b[2m               \u001b[0m\n",
       "\u001b[2;36m                    \u001b[0m         \u001b[32m'A:ASP:168'\u001b[0m, \u001b[32m'A:ALA:82'\u001b[0m, \u001b[32m'A:GLY:38'\u001b[0m, \u001b[32m'A:THR:97'\u001b[0m, \u001b[2m               \u001b[0m\n",
       "\u001b[2;36m                    \u001b[0m         \u001b[32m'A:GLU:27'\u001b[0m, \u001b[32m'A:THR:167'\u001b[0m, \u001b[32m'A:GLY:148'\u001b[0m,            \u001b[2m               \u001b[0m\n",
       "\u001b[2;36m                    \u001b[0m         \u001b[32m'A:LEU:63'\u001b[0m, \u001b[32m'A:ASP:112'\u001b[0m, \u001b[32m'A:ILE:159'\u001b[0m,            \u001b[2m               \u001b[0m\n",
       "\u001b[2;36m                    \u001b[0m         \u001b[32m'A:LEU:81'\u001b[0m, \u001b[32m'A:VAL:42'\u001b[0m, \u001b[32m'A:ASP:66'\u001b[0m, \u001b[32m'A:VAL:114'\u001b[0m, \u001b[2m               \u001b[0m\n",
       "\u001b[2;36m                    \u001b[0m         \u001b[32m'A:PRO:79'\u001b[0m, \u001b[32m'A:THR:48'\u001b[0m, \u001b[32m'A:ASP:11'\u001b[0m, \u001b[32m'A:VAL:170'\u001b[0m, \u001b[2m               \u001b[0m\n",
       "\u001b[2;36m                    \u001b[0m         \u001b[32m'A:ALA:171'\u001b[0m, \u001b[32m'A:LYS:143'\u001b[0m, \u001b[32m'A:ASP:126'\u001b[0m,           \u001b[2m               \u001b[0m\n",
       "\u001b[2;36m                    \u001b[0m         \u001b[32m'A:PHE:173'\u001b[0m, \u001b[32m'A:VAL:70'\u001b[0m, \u001b[32m'A:ILE:22'\u001b[0m,             \u001b[2m               \u001b[0m\n",
       "\u001b[2;36m                    \u001b[0m         \u001b[32m'A:PHE:138'\u001b[0m, \u001b[32m'A:LYS:105'\u001b[0m, \u001b[32m'A:LYS:175'\u001b[0m,           \u001b[2m               \u001b[0m\n",
       "\u001b[2;36m                    \u001b[0m         \u001b[32m'A:PRO:23'\u001b[0m, \u001b[32m'A:LYS:95'\u001b[0m, \u001b[32m'A:ALA:161'\u001b[0m,             \u001b[2m               \u001b[0m\n",
       "\u001b[2;36m                    \u001b[0m         \u001b[32m'A:HIS:163'\u001b[0m, \u001b[32m'A:PRO:7'\u001b[0m, \u001b[32m'A:GLU:21'\u001b[0m, \u001b[32m'A:HIS:111'\u001b[0m, \u001b[2m               \u001b[0m\n",
       "\u001b[2;36m                    \u001b[0m         \u001b[32m'A:GLN:134'\u001b[0m, \u001b[32m'A:ASP:157'\u001b[0m, \u001b[32m'A:LYS:164'\u001b[0m,           \u001b[2m               \u001b[0m\n",
       "\u001b[2;36m                    \u001b[0m         \u001b[32m'A:ILE:19'\u001b[0m, \u001b[32m'A:ILE:46'\u001b[0m, \u001b[32m'A:PRO:110'\u001b[0m,             \u001b[2m               \u001b[0m\n",
       "\u001b[2;36m                    \u001b[0m         \u001b[32m'A:LYS:132'\u001b[0m, \u001b[32m'A:VAL:54'\u001b[0m, \u001b[32m'A:LYS:147'\u001b[0m,            \u001b[2m               \u001b[0m\n",
       "\u001b[2;36m                    \u001b[0m         \u001b[32m'A:ALA:24'\u001b[0m, \u001b[32m'A:CYS:115'\u001b[0m, \u001b[32m'A:ASP:43'\u001b[0m,             \u001b[2m               \u001b[0m\n",
       "\u001b[2;36m                    \u001b[0m         \u001b[32m'A:LYS:113'\u001b[0m, \u001b[32m'A:HIS:137'\u001b[0m, \u001b[32m'A:LYS:174'\u001b[0m,           \u001b[2m               \u001b[0m\n",
       "\u001b[2;36m                    \u001b[0m         \u001b[32m'A:PHE:58'\u001b[0m, \u001b[32m'A:ILE:75'\u001b[0m, \u001b[32m'A:SER:26'\u001b[0m, \u001b[32m'A:GLY:9'\u001b[0m,   \u001b[2m               \u001b[0m\n",
       "\u001b[2;36m                    \u001b[0m         \u001b[32m'A:LEU:73'\u001b[0m, \u001b[32m'A:GLY:47'\u001b[0m, \u001b[32m'A:LEU:80'\u001b[0m, \u001b[32m'A:GLU:154'\u001b[0m, \u001b[2m               \u001b[0m\n",
       "\u001b[2;36m                    \u001b[0m         \u001b[32m'A:PRO:60'\u001b[0m, \u001b[32m'A:SER:2'\u001b[0m, \u001b[32m'A:PHE:45'\u001b[0m, \u001b[32m'A:ASN:17'\u001b[0m,   \u001b[2m               \u001b[0m\n",
       "\u001b[2;36m                    \u001b[0m         \u001b[32m'A:ALA:144'\u001b[0m, \u001b[32m'A:THR:76'\u001b[0m, \u001b[32m'A:VAL:86'\u001b[0m, \u001b[32m'A:VAL:18'\u001b[0m, \u001b[2m               \u001b[0m\n",
       "\u001b[2;36m                    \u001b[0m         \u001b[32m'A:PRO:116'\u001b[0m, \u001b[32m'A:ASP:68'\u001b[0m, \u001b[32m'A:ARG:89'\u001b[0m, \u001b[32m'A:ASN:55'\u001b[0m, \u001b[2m               \u001b[0m\n",
       "\u001b[2;36m                    \u001b[0m         \u001b[32m'A:VAL:74'\u001b[0m, \u001b[32m'A:GLU:140'\u001b[0m, \u001b[32m'A:SER:4'\u001b[0m, \u001b[32m'A:VAL:85'\u001b[0m,  \u001b[2m               \u001b[0m\n",
       "\u001b[2;36m                    \u001b[0m         \u001b[32m'A:GLU:165'\u001b[0m, \u001b[32m'A:GLY:169'\u001b[0m, \u001b[32m'A:TRP:156'\u001b[0m,           \u001b[2m               \u001b[0m\n",
       "\u001b[2;36m                    \u001b[0m         \u001b[32m'A:ASN:5'\u001b[0m, \u001b[32m'A:SER:64'\u001b[0m, \u001b[32m'A:VAL:107'\u001b[0m, \u001b[32m'A:SER:123'\u001b[0m, \u001b[2m               \u001b[0m\n",
       "\u001b[2;36m                    \u001b[0m         \u001b[32m'A:PRO:13'\u001b[0m, \u001b[32m'A:PHE:3'\u001b[0m, \u001b[32m'A:VAL:72'\u001b[0m, \u001b[32m'A:THR:62'\u001b[0m,   \u001b[2m               \u001b[0m\n",
       "\u001b[2;36m                    \u001b[0m         \u001b[32m'A:MET:50'\u001b[0m, \u001b[32m'A:TRP:150'\u001b[0m, \u001b[32m'A:VAL:153'\u001b[0m,            \u001b[2m               \u001b[0m\n",
       "\u001b[2;36m                    \u001b[0m         \u001b[32m'A:VAL:102'\u001b[0m, \u001b[32m'A:ILE:135'\u001b[0m, \u001b[32m'A:LEU:39'\u001b[0m,            \u001b[2m               \u001b[0m\n",
       "\u001b[2;36m                    \u001b[0m         \u001b[32m'A:ALA:129'\u001b[0m, \u001b[32m'A:LEU:37'\u001b[0m, \u001b[32m'A:VAL:41'\u001b[0m,             \u001b[2m               \u001b[0m\n",
       "\u001b[2;36m                    \u001b[0m         \u001b[32m'A:LEU:121'\u001b[0m, \u001b[32m'A:TYR:142'\u001b[0m, \u001b[32m'A:TYR:56'\u001b[0m,            \u001b[2m               \u001b[0m\n",
       "\u001b[2;36m                    \u001b[0m         \u001b[32m'A:GLU:146'\u001b[0m, \u001b[32m'A:ASP:98'\u001b[0m, \u001b[32m'A:ALA:108'\u001b[0m,            \u001b[2m               \u001b[0m\n",
       "\u001b[2;36m                    \u001b[0m         \u001b[32m'A:GLY:158'\u001b[0m, \u001b[32m'A:ALA:8'\u001b[0m, \u001b[32m'A:SER:84'\u001b[0m, \u001b[32m'A:GLN:14'\u001b[0m,  \u001b[2m               \u001b[0m\n",
       "\u001b[2;36m                    \u001b[0m         \u001b[32m'A:ARG:87'\u001b[0m, \u001b[32m'A:MET:117'\u001b[0m, \u001b[32m'A:TYR:31'\u001b[0m, \u001b[32m'A:GLU:32'\u001b[0m, \u001b[2m               \u001b[0m\n",
       "\u001b[2;36m                    \u001b[0m         \u001b[32m'A:LEU:145'\u001b[0m, \u001b[32m'A:GLU:99'\u001b[0m, \u001b[32m'A:ARG:51'\u001b[0m,             \u001b[2m               \u001b[0m\n",
       "\u001b[2;36m                    \u001b[0m         \u001b[32m'A:ALA:162'\u001b[0m, \u001b[32m'A:LYS:136'\u001b[0m, \u001b[32m'A:ALA:36'\u001b[0m,            \u001b[2m               \u001b[0m\n",
       "\u001b[2;36m                    \u001b[0m         \u001b[32m'A:GLY:67'\u001b[0m, \u001b[32m'A:LEU:94'\u001b[0m, \u001b[32m'A:ALA:90'\u001b[0m, \u001b[32m'A:LEU:131'\u001b[0m, \u001b[2m               \u001b[0m\n",
       "\u001b[2;36m                    \u001b[0m         \u001b[32m'A:GLN:25'\u001b[0m, \u001b[32m'A:GLY:101'\u001b[0m, \u001b[32m'A:SER:100'\u001b[0m,            \u001b[2m               \u001b[0m\n",
       "\u001b[2;36m                    \u001b[0m         \u001b[32m'A:ASP:103'\u001b[0m, \u001b[32m'A:PRO:77'\u001b[0m, \u001b[32m'A:ALA:104'\u001b[0m,            \u001b[2m               \u001b[0m\n",
       "\u001b[2;36m                    \u001b[0m         \u001b[32m'A:VAL:151'\u001b[0m, \u001b[32m'A:ASN:172'\u001b[0m, \u001b[32m'A:LEU:12'\u001b[0m,            \u001b[2m               \u001b[0m\n",
       "\u001b[2;36m                    \u001b[0m         \u001b[32m'A:ILE:166'\u001b[0m, \u001b[32m'A:ASN:120'\u001b[0m, \u001b[32m'A:LEU:106'\u001b[0m,           \u001b[2m               \u001b[0m\n",
       "\u001b[2;36m                    \u001b[0m         \u001b[32m'A:LEU:40'\u001b[0m, \u001b[32m'A:LEU:91'\u001b[0m, \u001b[32m'A:GLY:155'\u001b[0m,             \u001b[2m               \u001b[0m\n",
       "\u001b[2;36m                    \u001b[0m         \u001b[32m'A:ASP:160'\u001b[0m, \u001b[32m'A:LYS:152'\u001b[0m, \u001b[32m'A:ASP:71'\u001b[0m,            \u001b[2m               \u001b[0m\n",
       "\u001b[2;36m                    \u001b[0m         \u001b[32m'A:GLY:49'\u001b[0m, \u001b[32m'A:GLY:57'\u001b[0m, \u001b[32m'A:PHE:78'\u001b[0m, \u001b[32m'A:ARG:44'\u001b[0m,  \u001b[2m               \u001b[0m\n",
       "\u001b[2;36m                    \u001b[0m         \u001b[32m'A:GLY:65'\u001b[0m, \u001b[32m'A:ILE:59'\u001b[0m, \u001b[32m'A:PHE:139'\u001b[0m, \u001b[32m'A:LYS:30'\u001b[0m, \u001b[2m               \u001b[0m\n",
       "\u001b[2;36m                    \u001b[0m         \u001b[32m'A:ALA:119'\u001b[0m, \u001b[32m'A:VAL:109'\u001b[0m, \u001b[32m'A:VAL:127'\u001b[0m,           \u001b[2m               \u001b[0m\n",
       "\u001b[2;36m                    \u001b[0m         \u001b[32m'A:LYS:10'\u001b[0m, \u001b[32m'A:MET:93'\u001b[0m, \u001b[32m'A:MET:96'\u001b[0m, \u001b[32m'A:ASP:125'\u001b[0m, \u001b[2m               \u001b[0m\n",
       "\u001b[2;36m                    \u001b[0m         \u001b[32m'A:LYS:122'\u001b[0m, \u001b[32m'A:ASP:133'\u001b[0m, \u001b[32m'A:VAL:29'\u001b[0m,            \u001b[2m               \u001b[0m\n",
       "\u001b[2;36m                    \u001b[0m         \u001b[32m'A:ASP:34'\u001b[0m\u001b[1m]\u001b[0m.                                     \u001b[2m               \u001b[0m\n"
      ]
     },
     "metadata": {},
     "output_type": "display_data"
    },
    {
     "data": {
      "text/html": [
       "<pre style=\"white-space:pre;overflow-x:auto;line-height:normal;font-family:Menlo,'DejaVu Sans Mono',consolas,'Courier New',monospace\"><span style=\"color: #7fbfbf; text-decoration-color: #7fbfbf\">                    </span><span style=\"color: #008000; text-decoration-color: #008000\">DEBUG   </span> Found <span style=\"color: #008080; text-decoration-color: #008080; font-weight: bold\">141</span> nodes in the chain subgraph.          <a href=\"file:///home/atj39/github/graphein/graphein/protein/subgraphs.py\" target=\"_blank\"><span style=\"color: #7f7f7f; text-decoration-color: #7f7f7f\">subgraphs.py</span></a><span style=\"color: #7f7f7f; text-decoration-color: #7f7f7f\">:</span><a href=\"file:///home/atj39/github/graphein/graphein/protein/subgraphs.py#266\" target=\"_blank\"><span style=\"color: #7f7f7f; text-decoration-color: #7f7f7f\">266</span></a>\n",
       "</pre>\n"
      ],
      "text/plain": [
       "\u001b[2;36m                   \u001b[0m\u001b[2;36m \u001b[0m\u001b[32mDEBUG   \u001b[0m Found \u001b[1;36m141\u001b[0m nodes in the chain subgraph.          \u001b]8;id=386632;file:///home/atj39/github/graphein/graphein/protein/subgraphs.py\u001b\\\u001b[2msubgraphs.py\u001b[0m\u001b]8;;\u001b\\\u001b[2m:\u001b[0m\u001b]8;id=583449;file:///home/atj39/github/graphein/graphein/protein/subgraphs.py#266\u001b\\\u001b[2m266\u001b[0m\u001b]8;;\u001b\\\n"
      ]
     },
     "metadata": {},
     "output_type": "display_data"
    },
    {
     "data": {
      "text/html": [
       "<pre style=\"white-space:pre;overflow-x:auto;line-height:normal;font-family:Menlo,'DejaVu Sans Mono',consolas,'Courier New',monospace\"><span style=\"color: #7fbfbf; text-decoration-color: #7fbfbf\">                    </span><span style=\"color: #008000; text-decoration-color: #008000\">DEBUG   </span> Creating subgraph from nodes: <span style=\"font-weight: bold\">[</span><span style=\"color: #008000; text-decoration-color: #008000\">'A:HIS:87'</span>,       <a href=\"file:///home/atj39/github/graphein/graphein/protein/subgraphs.py\" target=\"_blank\"><span style=\"color: #7f7f7f; text-decoration-color: #7f7f7f\">subgraphs.py</span></a><span style=\"color: #7f7f7f; text-decoration-color: #7f7f7f\">:</span><a href=\"file:///home/atj39/github/graphein/graphein/protein/subgraphs.py#57\" target=\"_blank\"><span style=\"color: #7f7f7f; text-decoration-color: #7f7f7f\">57</span></a>\n",
       "<span style=\"color: #7fbfbf; text-decoration-color: #7fbfbf\">                    </span>         <span style=\"color: #008000; text-decoration-color: #008000\">'A:GLY:59'</span>, <span style=\"color: #008000; text-decoration-color: #008000\">'A:VAL:96'</span>, <span style=\"color: #008000; text-decoration-color: #008000\">'A:THR:118'</span>, <span style=\"color: #008000; text-decoration-color: #008000\">'A:ALA:88'</span>, <span style=\"color: #7f7f7f; text-decoration-color: #7f7f7f\">               </span>\n",
       "<span style=\"color: #7fbfbf; text-decoration-color: #7fbfbf\">                    </span>         <span style=\"color: #008000; text-decoration-color: #008000\">'A:HIS:122'</span>, <span style=\"color: #008000; text-decoration-color: #008000\">'A:VAL:62'</span>, <span style=\"color: #008000; text-decoration-color: #008000\">'A:LEU:109'</span>,            <span style=\"color: #7f7f7f; text-decoration-color: #7f7f7f\">               </span>\n",
       "<span style=\"color: #7fbfbf; text-decoration-color: #7fbfbf\">                    </span>         <span style=\"color: #008000; text-decoration-color: #008000\">'A:THR:38'</span>, <span style=\"color: #008000; text-decoration-color: #008000\">'A:PHE:128'</span>, <span style=\"color: #008000; text-decoration-color: #008000\">'A:ALA:26'</span>, <span style=\"color: #008000; text-decoration-color: #008000\">'A:PHE:98'</span>, <span style=\"color: #7f7f7f; text-decoration-color: #7f7f7f\">               </span>\n",
       "<span style=\"color: #7fbfbf; text-decoration-color: #7fbfbf\">                    </span>         <span style=\"color: #008000; text-decoration-color: #008000\">'A:SER:52'</span>, <span style=\"color: #008000; text-decoration-color: #008000\">'A:LEU:66'</span>, <span style=\"color: #008000; text-decoration-color: #008000\">'A:VAL:93'</span>, <span style=\"color: #008000; text-decoration-color: #008000\">'A:LYS:40'</span>,  <span style=\"color: #7f7f7f; text-decoration-color: #7f7f7f\">               </span>\n",
       "<span style=\"color: #7fbfbf; text-decoration-color: #7fbfbf\">                    </span>         <span style=\"color: #008000; text-decoration-color: #008000\">'A:VAL:73'</span>, <span style=\"color: #008000; text-decoration-color: #008000\">'A:ALA:71'</span>, <span style=\"color: #008000; text-decoration-color: #008000\">'A:ALA:123'</span>, <span style=\"color: #008000; text-decoration-color: #008000\">'A:PRO:95'</span>, <span style=\"color: #7f7f7f; text-decoration-color: #7f7f7f\">               </span>\n",
       "<span style=\"color: #7fbfbf; text-decoration-color: #7fbfbf\">                    </span>         <span style=\"color: #008000; text-decoration-color: #008000\">'A:PRO:119'</span>, <span style=\"color: #008000; text-decoration-color: #008000\">'A:THR:108'</span>, <span style=\"color: #008000; text-decoration-color: #008000\">'A:LYS:7'</span>, <span style=\"color: #008000; text-decoration-color: #008000\">'A:ASP:94'</span>, <span style=\"color: #7f7f7f; text-decoration-color: #7f7f7f\">               </span>\n",
       "<span style=\"color: #7fbfbf; text-decoration-color: #7fbfbf\">                    </span>         <span style=\"color: #008000; text-decoration-color: #008000\">'A:ALA:82'</span>, <span style=\"color: #008000; text-decoration-color: #008000\">'A:LEU:136'</span>, <span style=\"color: #008000; text-decoration-color: #008000\">'A:THR:41'</span>, <span style=\"color: #008000; text-decoration-color: #008000\">'A:VAL:1'</span>,  <span style=\"color: #7f7f7f; text-decoration-color: #7f7f7f\">               </span>\n",
       "<span style=\"color: #7fbfbf; text-decoration-color: #7fbfbf\">                    </span>         <span style=\"color: #008000; text-decoration-color: #008000\">'A:GLU:27'</span>, <span style=\"color: #008000; text-decoration-color: #008000\">'A:SER:81'</span>, <span style=\"color: #008000; text-decoration-color: #008000\">'A:SER:35'</span>, <span style=\"color: #008000; text-decoration-color: #008000\">'A:ASP:85'</span>,  <span style=\"color: #7f7f7f; text-decoration-color: #7f7f7f\">               </span>\n",
       "<span style=\"color: #7fbfbf; text-decoration-color: #7fbfbf\">                    </span>         <span style=\"color: #008000; text-decoration-color: #008000\">'A:ASP:126'</span>, <span style=\"color: #008000; text-decoration-color: #008000\">'A:ARG:92'</span>, <span style=\"color: #008000; text-decoration-color: #008000\">'A:LYS:56'</span>, <span style=\"color: #008000; text-decoration-color: #008000\">'A:ASP:47'</span>, <span style=\"color: #7f7f7f; text-decoration-color: #7f7f7f\">               </span>\n",
       "<span style=\"color: #7fbfbf; text-decoration-color: #7fbfbf\">                    </span>         <span style=\"color: #008000; text-decoration-color: #008000\">'A:VAL:70'</span>, <span style=\"color: #008000; text-decoration-color: #008000\">'A:ALA:120'</span>, <span style=\"color: #008000; text-decoration-color: #008000\">'A:LEU:48'</span>, <span style=\"color: #008000; text-decoration-color: #008000\">'A:THR:67'</span>, <span style=\"color: #7f7f7f; text-decoration-color: #7f7f7f\">               </span>\n",
       "<span style=\"color: #7fbfbf; text-decoration-color: #7fbfbf\">                    </span>         <span style=\"color: #008000; text-decoration-color: #008000\">'A:ARG:31'</span>, <span style=\"color: #008000; text-decoration-color: #008000\">'A:HIS:112'</span>, <span style=\"color: #008000; text-decoration-color: #008000\">'A:HIS:89'</span>,             <span style=\"color: #7f7f7f; text-decoration-color: #7f7f7f\">               </span>\n",
       "<span style=\"color: #7fbfbf; text-decoration-color: #7fbfbf\">                    </span>         <span style=\"color: #008000; text-decoration-color: #008000\">'A:VAL:132'</span>, <span style=\"color: #008000; text-decoration-color: #008000\">'A:PHE:43'</span>, <span style=\"color: #008000; text-decoration-color: #008000\">'A:ASN:97'</span>, <span style=\"color: #008000; text-decoration-color: #008000\">'A:ALA:53'</span>, <span style=\"color: #7f7f7f; text-decoration-color: #7f7f7f\">               </span>\n",
       "<span style=\"color: #7fbfbf; text-decoration-color: #7fbfbf\">                    </span>         <span style=\"color: #008000; text-decoration-color: #008000\">'A:LEU:29'</span>, <span style=\"color: #008000; text-decoration-color: #008000\">'A:PRO:114'</span>, <span style=\"color: #008000; text-decoration-color: #008000\">'A:MET:32'</span>,             <span style=\"color: #7f7f7f; text-decoration-color: #7f7f7f\">               </span>\n",
       "<span style=\"color: #7fbfbf; text-decoration-color: #7fbfbf\">                    </span>         <span style=\"color: #008000; text-decoration-color: #008000\">'A:THR:137'</span>, <span style=\"color: #008000; text-decoration-color: #008000\">'A:GLY:18'</span>, <span style=\"color: #008000; text-decoration-color: #008000\">'A:LYS:99'</span>,             <span style=\"color: #7f7f7f; text-decoration-color: #7f7f7f\">               </span>\n",
       "<span style=\"color: #7fbfbf; text-decoration-color: #7fbfbf\">                    </span>         <span style=\"color: #008000; text-decoration-color: #008000\">'A:LYS:127'</span>, <span style=\"color: #008000; text-decoration-color: #008000\">'A:TYR:140'</span>, <span style=\"color: #008000; text-decoration-color: #008000\">'A:ALA:63'</span>,            <span style=\"color: #7f7f7f; text-decoration-color: #7f7f7f\">               </span>\n",
       "<span style=\"color: #7fbfbf; text-decoration-color: #7fbfbf\">                    </span>         <span style=\"color: #008000; text-decoration-color: #008000\">'A:ASP:74'</span>, <span style=\"color: #008000; text-decoration-color: #008000\">'A:ALA:130'</span>, <span style=\"color: #008000; text-decoration-color: #008000\">'A:PRO:37'</span>, <span style=\"color: #008000; text-decoration-color: #008000\">'A:TYR:24'</span>, <span style=\"color: #7f7f7f; text-decoration-color: #7f7f7f\">               </span>\n",
       "<span style=\"color: #7fbfbf; text-decoration-color: #7fbfbf\">                    </span>         <span style=\"color: #008000; text-decoration-color: #008000\">'A:PRO:44'</span>, <span style=\"color: #008000; text-decoration-color: #008000\">'A:LEU:80'</span>, <span style=\"color: #008000; text-decoration-color: #008000\">'A:TRP:14'</span>, <span style=\"color: #008000; text-decoration-color: #008000\">'A:ALA:21'</span>,  <span style=\"color: #7f7f7f; text-decoration-color: #7f7f7f\">               </span>\n",
       "<span style=\"color: #7fbfbf; text-decoration-color: #7fbfbf\">                    </span>         <span style=\"color: #008000; text-decoration-color: #008000\">'A:ALA:65'</span>, <span style=\"color: #008000; text-decoration-color: #008000\">'A:GLY:25'</span>, <span style=\"color: #008000; text-decoration-color: #008000\">'A:MET:76'</span>, <span style=\"color: #008000; text-decoration-color: #008000\">'A:ALA:19'</span>,  <span style=\"color: #7f7f7f; text-decoration-color: #7f7f7f\">               </span>\n",
       "<span style=\"color: #7fbfbf; text-decoration-color: #7fbfbf\">                    </span>         <span style=\"color: #008000; text-decoration-color: #008000\">'A:GLN:54'</span>, <span style=\"color: #008000; text-decoration-color: #008000\">'A:ALA:13'</span>, <span style=\"color: #008000; text-decoration-color: #008000\">'A:LYS:139'</span>, <span style=\"color: #008000; text-decoration-color: #008000\">'A:GLU:30'</span>, <span style=\"color: #7f7f7f; text-decoration-color: #7f7f7f\">               </span>\n",
       "<span style=\"color: #7fbfbf; text-decoration-color: #7fbfbf\">                    </span>         <span style=\"color: #008000; text-decoration-color: #008000\">'A:LYS:16'</span>, <span style=\"color: #008000; text-decoration-color: #008000\">'A:THR:134'</span>, <span style=\"color: #008000; text-decoration-color: #008000\">'A:VAL:17'</span>,             <span style=\"color: #7f7f7f; text-decoration-color: #7f7f7f\">               </span>\n",
       "<span style=\"color: #7fbfbf; text-decoration-color: #7fbfbf\">                    </span>         <span style=\"color: #008000; text-decoration-color: #008000\">'A:LEU:113'</span>, <span style=\"color: #008000; text-decoration-color: #008000\">'A:HIS:45'</span>, <span style=\"color: #008000; text-decoration-color: #008000\">'A:ARG:141'</span>,            <span style=\"color: #7f7f7f; text-decoration-color: #7f7f7f\">               </span>\n",
       "<span style=\"color: #7fbfbf; text-decoration-color: #7fbfbf\">                    </span>         <span style=\"color: #008000; text-decoration-color: #008000\">'A:VAL:10'</span>, <span style=\"color: #008000; text-decoration-color: #008000\">'A:GLU:116'</span>, <span style=\"color: #008000; text-decoration-color: #008000\">'A:SER:49'</span>,             <span style=\"color: #7f7f7f; text-decoration-color: #7f7f7f\">               </span>\n",
       "<span style=\"color: #7fbfbf; text-decoration-color: #7fbfbf\">                    </span>         <span style=\"color: #008000; text-decoration-color: #008000\">'A:LEU:100'</span>, <span style=\"color: #008000; text-decoration-color: #008000\">'A:VAL:107'</span>, <span style=\"color: #008000; text-decoration-color: #008000\">'A:VAL:121'</span>,           <span style=\"color: #7f7f7f; text-decoration-color: #7f7f7f\">               </span>\n",
       "<span style=\"color: #7fbfbf; text-decoration-color: #7fbfbf\">                    </span>         <span style=\"color: #008000; text-decoration-color: #008000\">'A:CYS:104'</span>, <span style=\"color: #008000; text-decoration-color: #008000\">'A:SER:133'</span>, <span style=\"color: #008000; text-decoration-color: #008000\">'A:PHE:46'</span>,            <span style=\"color: #7f7f7f; text-decoration-color: #7f7f7f\">               </span>\n",
       "<span style=\"color: #7fbfbf; text-decoration-color: #7fbfbf\">                    </span>         <span style=\"color: #008000; text-decoration-color: #008000\">'A:ALA:69'</span>, <span style=\"color: #008000; text-decoration-color: #008000\">'A:ALA:115'</span>, <span style=\"color: #008000; text-decoration-color: #008000\">'A:HIS:50'</span>,             <span style=\"color: #7f7f7f; text-decoration-color: #7f7f7f\">               </span>\n",
       "<span style=\"color: #7fbfbf; text-decoration-color: #7fbfbf\">                    </span>         <span style=\"color: #008000; text-decoration-color: #008000\">'A:SER:131'</span>, <span style=\"color: #008000; text-decoration-color: #008000\">'A:ASN:68'</span>, <span style=\"color: #008000; text-decoration-color: #008000\">'A:GLY:22'</span>, <span style=\"color: #008000; text-decoration-color: #008000\">'A:ASN:78'</span>, <span style=\"color: #7f7f7f; text-decoration-color: #7f7f7f\">               </span>\n",
       "<span style=\"color: #7fbfbf; text-decoration-color: #7fbfbf\">                    </span>         <span style=\"color: #008000; text-decoration-color: #008000\">'A:VAL:135'</span>, <span style=\"color: #008000; text-decoration-color: #008000\">'A:SER:84'</span>, <span style=\"color: #008000; text-decoration-color: #008000\">'A:PHE:117'</span>,            <span style=\"color: #7f7f7f; text-decoration-color: #7f7f7f\">               </span>\n",
       "<span style=\"color: #7fbfbf; text-decoration-color: #7fbfbf\">                    </span>         <span style=\"color: #008000; text-decoration-color: #008000\">'A:LEU:83'</span>, <span style=\"color: #008000; text-decoration-color: #008000\">'A:ASP:64'</span>, <span style=\"color: #008000; text-decoration-color: #008000\">'A:GLY:51'</span>, <span style=\"color: #008000; text-decoration-color: #008000\">'A:LYS:11'</span>,  <span style=\"color: #7f7f7f; text-decoration-color: #7f7f7f\">               </span>\n",
       "<span style=\"color: #7fbfbf; text-decoration-color: #7fbfbf\">                    </span>         <span style=\"color: #008000; text-decoration-color: #008000\">'A:LEU:101'</span>, <span style=\"color: #008000; text-decoration-color: #008000\">'A:ASP:6'</span>, <span style=\"color: #008000; text-decoration-color: #008000\">'A:LEU:129'</span>, <span style=\"color: #008000; text-decoration-color: #008000\">'A:LEU:34'</span>, <span style=\"color: #7f7f7f; text-decoration-color: #7f7f7f\">               </span>\n",
       "<span style=\"color: #7fbfbf; text-decoration-color: #7fbfbf\">                    </span>         <span style=\"color: #008000; text-decoration-color: #008000\">'A:PRO:4'</span>, <span style=\"color: #008000; text-decoration-color: #008000\">'A:GLY:15'</span>, <span style=\"color: #008000; text-decoration-color: #008000\">'A:VAL:55'</span>, <span style=\"color: #008000; text-decoration-color: #008000\">'A:ALA:111'</span>,  <span style=\"color: #7f7f7f; text-decoration-color: #7f7f7f\">               </span>\n",
       "<span style=\"color: #7fbfbf; text-decoration-color: #7fbfbf\">                    </span>         <span style=\"color: #008000; text-decoration-color: #008000\">'A:HIS:58'</span>, <span style=\"color: #008000; text-decoration-color: #008000\">'A:HIS:72'</span>, <span style=\"color: #008000; text-decoration-color: #008000\">'A:SER:102'</span>, <span style=\"color: #008000; text-decoration-color: #008000\">'A:ASN:9'</span>,  <span style=\"color: #7f7f7f; text-decoration-color: #7f7f7f\">               </span>\n",
       "<span style=\"color: #7fbfbf; text-decoration-color: #7fbfbf\">                    </span>         <span style=\"color: #008000; text-decoration-color: #008000\">'A:GLU:23'</span>, <span style=\"color: #008000; text-decoration-color: #008000\">'A:LEU:125'</span>, <span style=\"color: #008000; text-decoration-color: #008000\">'A:LYS:61'</span>, <span style=\"color: #008000; text-decoration-color: #008000\">'A:ALA:28'</span>, <span style=\"color: #7f7f7f; text-decoration-color: #7f7f7f\">               </span>\n",
       "<span style=\"color: #7fbfbf; text-decoration-color: #7fbfbf\">                    </span>         <span style=\"color: #008000; text-decoration-color: #008000\">'A:HIS:103'</span>, <span style=\"color: #008000; text-decoration-color: #008000\">'A:SER:124'</span>, <span style=\"color: #008000; text-decoration-color: #008000\">'A:SER:3'</span>, <span style=\"color: #008000; text-decoration-color: #008000\">'A:PHE:33'</span>, <span style=\"color: #7f7f7f; text-decoration-color: #7f7f7f\">               </span>\n",
       "<span style=\"color: #7fbfbf; text-decoration-color: #7fbfbf\">                    </span>         <span style=\"color: #008000; text-decoration-color: #008000\">'A:HIS:20'</span>, <span style=\"color: #008000; text-decoration-color: #008000\">'A:ALA:12'</span>, <span style=\"color: #008000; text-decoration-color: #008000\">'A:PRO:77'</span>, <span style=\"color: #008000; text-decoration-color: #008000\">'A:ALA:5'</span>,   <span style=\"color: #7f7f7f; text-decoration-color: #7f7f7f\">               </span>\n",
       "<span style=\"color: #7fbfbf; text-decoration-color: #7fbfbf\">                    </span>         <span style=\"color: #008000; text-decoration-color: #008000\">'A:LYS:90'</span>, <span style=\"color: #008000; text-decoration-color: #008000\">'A:LEU:2'</span>, <span style=\"color: #008000; text-decoration-color: #008000\">'A:LEU:105'</span>, <span style=\"color: #008000; text-decoration-color: #008000\">'A:ALA:79'</span>,  <span style=\"color: #7f7f7f; text-decoration-color: #7f7f7f\">               </span>\n",
       "<span style=\"color: #7fbfbf; text-decoration-color: #7fbfbf\">                    </span>         <span style=\"color: #008000; text-decoration-color: #008000\">'A:THR:39'</span>, <span style=\"color: #008000; text-decoration-color: #008000\">'A:LEU:106'</span>, <span style=\"color: #008000; text-decoration-color: #008000\">'A:LEU:91'</span>, <span style=\"color: #008000; text-decoration-color: #008000\">'A:ASP:75'</span>, <span style=\"color: #7f7f7f; text-decoration-color: #7f7f7f\">               </span>\n",
       "<span style=\"color: #7fbfbf; text-decoration-color: #7fbfbf\">                    </span>         <span style=\"color: #008000; text-decoration-color: #008000\">'A:GLY:57'</span>, <span style=\"color: #008000; text-decoration-color: #008000\">'A:ALA:110'</span>, <span style=\"color: #008000; text-decoration-color: #008000\">'A:PHE:36'</span>, <span style=\"color: #008000; text-decoration-color: #008000\">'A:LEU:86'</span>, <span style=\"color: #7f7f7f; text-decoration-color: #7f7f7f\">               </span>\n",
       "<span style=\"color: #7fbfbf; text-decoration-color: #7fbfbf\">                    </span>         <span style=\"color: #008000; text-decoration-color: #008000\">'A:TYR:42'</span>, <span style=\"color: #008000; text-decoration-color: #008000\">'A:LYS:60'</span>, <span style=\"color: #008000; text-decoration-color: #008000\">'A:SER:138'</span>, <span style=\"color: #008000; text-decoration-color: #008000\">'A:THR:8'</span><span style=\"font-weight: bold\">]</span>. <span style=\"color: #7f7f7f; text-decoration-color: #7f7f7f\">               </span>\n",
       "</pre>\n"
      ],
      "text/plain": [
       "\u001b[2;36m                   \u001b[0m\u001b[2;36m \u001b[0m\u001b[32mDEBUG   \u001b[0m Creating subgraph from nodes: \u001b[1m[\u001b[0m\u001b[32m'A:HIS:87'\u001b[0m,       \u001b]8;id=547065;file:///home/atj39/github/graphein/graphein/protein/subgraphs.py\u001b\\\u001b[2msubgraphs.py\u001b[0m\u001b]8;;\u001b\\\u001b[2m:\u001b[0m\u001b]8;id=574779;file:///home/atj39/github/graphein/graphein/protein/subgraphs.py#57\u001b\\\u001b[2m57\u001b[0m\u001b]8;;\u001b\\\n",
       "\u001b[2;36m                    \u001b[0m         \u001b[32m'A:GLY:59'\u001b[0m, \u001b[32m'A:VAL:96'\u001b[0m, \u001b[32m'A:THR:118'\u001b[0m, \u001b[32m'A:ALA:88'\u001b[0m, \u001b[2m               \u001b[0m\n",
       "\u001b[2;36m                    \u001b[0m         \u001b[32m'A:HIS:122'\u001b[0m, \u001b[32m'A:VAL:62'\u001b[0m, \u001b[32m'A:LEU:109'\u001b[0m,            \u001b[2m               \u001b[0m\n",
       "\u001b[2;36m                    \u001b[0m         \u001b[32m'A:THR:38'\u001b[0m, \u001b[32m'A:PHE:128'\u001b[0m, \u001b[32m'A:ALA:26'\u001b[0m, \u001b[32m'A:PHE:98'\u001b[0m, \u001b[2m               \u001b[0m\n",
       "\u001b[2;36m                    \u001b[0m         \u001b[32m'A:SER:52'\u001b[0m, \u001b[32m'A:LEU:66'\u001b[0m, \u001b[32m'A:VAL:93'\u001b[0m, \u001b[32m'A:LYS:40'\u001b[0m,  \u001b[2m               \u001b[0m\n",
       "\u001b[2;36m                    \u001b[0m         \u001b[32m'A:VAL:73'\u001b[0m, \u001b[32m'A:ALA:71'\u001b[0m, \u001b[32m'A:ALA:123'\u001b[0m, \u001b[32m'A:PRO:95'\u001b[0m, \u001b[2m               \u001b[0m\n",
       "\u001b[2;36m                    \u001b[0m         \u001b[32m'A:PRO:119'\u001b[0m, \u001b[32m'A:THR:108'\u001b[0m, \u001b[32m'A:LYS:7'\u001b[0m, \u001b[32m'A:ASP:94'\u001b[0m, \u001b[2m               \u001b[0m\n",
       "\u001b[2;36m                    \u001b[0m         \u001b[32m'A:ALA:82'\u001b[0m, \u001b[32m'A:LEU:136'\u001b[0m, \u001b[32m'A:THR:41'\u001b[0m, \u001b[32m'A:VAL:1'\u001b[0m,  \u001b[2m               \u001b[0m\n",
       "\u001b[2;36m                    \u001b[0m         \u001b[32m'A:GLU:27'\u001b[0m, \u001b[32m'A:SER:81'\u001b[0m, \u001b[32m'A:SER:35'\u001b[0m, \u001b[32m'A:ASP:85'\u001b[0m,  \u001b[2m               \u001b[0m\n",
       "\u001b[2;36m                    \u001b[0m         \u001b[32m'A:ASP:126'\u001b[0m, \u001b[32m'A:ARG:92'\u001b[0m, \u001b[32m'A:LYS:56'\u001b[0m, \u001b[32m'A:ASP:47'\u001b[0m, \u001b[2m               \u001b[0m\n",
       "\u001b[2;36m                    \u001b[0m         \u001b[32m'A:VAL:70'\u001b[0m, \u001b[32m'A:ALA:120'\u001b[0m, \u001b[32m'A:LEU:48'\u001b[0m, \u001b[32m'A:THR:67'\u001b[0m, \u001b[2m               \u001b[0m\n",
       "\u001b[2;36m                    \u001b[0m         \u001b[32m'A:ARG:31'\u001b[0m, \u001b[32m'A:HIS:112'\u001b[0m, \u001b[32m'A:HIS:89'\u001b[0m,             \u001b[2m               \u001b[0m\n",
       "\u001b[2;36m                    \u001b[0m         \u001b[32m'A:VAL:132'\u001b[0m, \u001b[32m'A:PHE:43'\u001b[0m, \u001b[32m'A:ASN:97'\u001b[0m, \u001b[32m'A:ALA:53'\u001b[0m, \u001b[2m               \u001b[0m\n",
       "\u001b[2;36m                    \u001b[0m         \u001b[32m'A:LEU:29'\u001b[0m, \u001b[32m'A:PRO:114'\u001b[0m, \u001b[32m'A:MET:32'\u001b[0m,             \u001b[2m               \u001b[0m\n",
       "\u001b[2;36m                    \u001b[0m         \u001b[32m'A:THR:137'\u001b[0m, \u001b[32m'A:GLY:18'\u001b[0m, \u001b[32m'A:LYS:99'\u001b[0m,             \u001b[2m               \u001b[0m\n",
       "\u001b[2;36m                    \u001b[0m         \u001b[32m'A:LYS:127'\u001b[0m, \u001b[32m'A:TYR:140'\u001b[0m, \u001b[32m'A:ALA:63'\u001b[0m,            \u001b[2m               \u001b[0m\n",
       "\u001b[2;36m                    \u001b[0m         \u001b[32m'A:ASP:74'\u001b[0m, \u001b[32m'A:ALA:130'\u001b[0m, \u001b[32m'A:PRO:37'\u001b[0m, \u001b[32m'A:TYR:24'\u001b[0m, \u001b[2m               \u001b[0m\n",
       "\u001b[2;36m                    \u001b[0m         \u001b[32m'A:PRO:44'\u001b[0m, \u001b[32m'A:LEU:80'\u001b[0m, \u001b[32m'A:TRP:14'\u001b[0m, \u001b[32m'A:ALA:21'\u001b[0m,  \u001b[2m               \u001b[0m\n",
       "\u001b[2;36m                    \u001b[0m         \u001b[32m'A:ALA:65'\u001b[0m, \u001b[32m'A:GLY:25'\u001b[0m, \u001b[32m'A:MET:76'\u001b[0m, \u001b[32m'A:ALA:19'\u001b[0m,  \u001b[2m               \u001b[0m\n",
       "\u001b[2;36m                    \u001b[0m         \u001b[32m'A:GLN:54'\u001b[0m, \u001b[32m'A:ALA:13'\u001b[0m, \u001b[32m'A:LYS:139'\u001b[0m, \u001b[32m'A:GLU:30'\u001b[0m, \u001b[2m               \u001b[0m\n",
       "\u001b[2;36m                    \u001b[0m         \u001b[32m'A:LYS:16'\u001b[0m, \u001b[32m'A:THR:134'\u001b[0m, \u001b[32m'A:VAL:17'\u001b[0m,             \u001b[2m               \u001b[0m\n",
       "\u001b[2;36m                    \u001b[0m         \u001b[32m'A:LEU:113'\u001b[0m, \u001b[32m'A:HIS:45'\u001b[0m, \u001b[32m'A:ARG:141'\u001b[0m,            \u001b[2m               \u001b[0m\n",
       "\u001b[2;36m                    \u001b[0m         \u001b[32m'A:VAL:10'\u001b[0m, \u001b[32m'A:GLU:116'\u001b[0m, \u001b[32m'A:SER:49'\u001b[0m,             \u001b[2m               \u001b[0m\n",
       "\u001b[2;36m                    \u001b[0m         \u001b[32m'A:LEU:100'\u001b[0m, \u001b[32m'A:VAL:107'\u001b[0m, \u001b[32m'A:VAL:121'\u001b[0m,           \u001b[2m               \u001b[0m\n",
       "\u001b[2;36m                    \u001b[0m         \u001b[32m'A:CYS:104'\u001b[0m, \u001b[32m'A:SER:133'\u001b[0m, \u001b[32m'A:PHE:46'\u001b[0m,            \u001b[2m               \u001b[0m\n",
       "\u001b[2;36m                    \u001b[0m         \u001b[32m'A:ALA:69'\u001b[0m, \u001b[32m'A:ALA:115'\u001b[0m, \u001b[32m'A:HIS:50'\u001b[0m,             \u001b[2m               \u001b[0m\n",
       "\u001b[2;36m                    \u001b[0m         \u001b[32m'A:SER:131'\u001b[0m, \u001b[32m'A:ASN:68'\u001b[0m, \u001b[32m'A:GLY:22'\u001b[0m, \u001b[32m'A:ASN:78'\u001b[0m, \u001b[2m               \u001b[0m\n",
       "\u001b[2;36m                    \u001b[0m         \u001b[32m'A:VAL:135'\u001b[0m, \u001b[32m'A:SER:84'\u001b[0m, \u001b[32m'A:PHE:117'\u001b[0m,            \u001b[2m               \u001b[0m\n",
       "\u001b[2;36m                    \u001b[0m         \u001b[32m'A:LEU:83'\u001b[0m, \u001b[32m'A:ASP:64'\u001b[0m, \u001b[32m'A:GLY:51'\u001b[0m, \u001b[32m'A:LYS:11'\u001b[0m,  \u001b[2m               \u001b[0m\n",
       "\u001b[2;36m                    \u001b[0m         \u001b[32m'A:LEU:101'\u001b[0m, \u001b[32m'A:ASP:6'\u001b[0m, \u001b[32m'A:LEU:129'\u001b[0m, \u001b[32m'A:LEU:34'\u001b[0m, \u001b[2m               \u001b[0m\n",
       "\u001b[2;36m                    \u001b[0m         \u001b[32m'A:PRO:4'\u001b[0m, \u001b[32m'A:GLY:15'\u001b[0m, \u001b[32m'A:VAL:55'\u001b[0m, \u001b[32m'A:ALA:111'\u001b[0m,  \u001b[2m               \u001b[0m\n",
       "\u001b[2;36m                    \u001b[0m         \u001b[32m'A:HIS:58'\u001b[0m, \u001b[32m'A:HIS:72'\u001b[0m, \u001b[32m'A:SER:102'\u001b[0m, \u001b[32m'A:ASN:9'\u001b[0m,  \u001b[2m               \u001b[0m\n",
       "\u001b[2;36m                    \u001b[0m         \u001b[32m'A:GLU:23'\u001b[0m, \u001b[32m'A:LEU:125'\u001b[0m, \u001b[32m'A:LYS:61'\u001b[0m, \u001b[32m'A:ALA:28'\u001b[0m, \u001b[2m               \u001b[0m\n",
       "\u001b[2;36m                    \u001b[0m         \u001b[32m'A:HIS:103'\u001b[0m, \u001b[32m'A:SER:124'\u001b[0m, \u001b[32m'A:SER:3'\u001b[0m, \u001b[32m'A:PHE:33'\u001b[0m, \u001b[2m               \u001b[0m\n",
       "\u001b[2;36m                    \u001b[0m         \u001b[32m'A:HIS:20'\u001b[0m, \u001b[32m'A:ALA:12'\u001b[0m, \u001b[32m'A:PRO:77'\u001b[0m, \u001b[32m'A:ALA:5'\u001b[0m,   \u001b[2m               \u001b[0m\n",
       "\u001b[2;36m                    \u001b[0m         \u001b[32m'A:LYS:90'\u001b[0m, \u001b[32m'A:LEU:2'\u001b[0m, \u001b[32m'A:LEU:105'\u001b[0m, \u001b[32m'A:ALA:79'\u001b[0m,  \u001b[2m               \u001b[0m\n",
       "\u001b[2;36m                    \u001b[0m         \u001b[32m'A:THR:39'\u001b[0m, \u001b[32m'A:LEU:106'\u001b[0m, \u001b[32m'A:LEU:91'\u001b[0m, \u001b[32m'A:ASP:75'\u001b[0m, \u001b[2m               \u001b[0m\n",
       "\u001b[2;36m                    \u001b[0m         \u001b[32m'A:GLY:57'\u001b[0m, \u001b[32m'A:ALA:110'\u001b[0m, \u001b[32m'A:PHE:36'\u001b[0m, \u001b[32m'A:LEU:86'\u001b[0m, \u001b[2m               \u001b[0m\n",
       "\u001b[2;36m                    \u001b[0m         \u001b[32m'A:TYR:42'\u001b[0m, \u001b[32m'A:LYS:60'\u001b[0m, \u001b[32m'A:SER:138'\u001b[0m, \u001b[32m'A:THR:8'\u001b[0m\u001b[1m]\u001b[0m. \u001b[2m               \u001b[0m\n"
      ]
     },
     "metadata": {},
     "output_type": "display_data"
    },
    {
     "data": {
      "text/html": [
       "<pre style=\"white-space:pre;overflow-x:auto;line-height:normal;font-family:Menlo,'DejaVu Sans Mono',consolas,'Courier New',monospace\"><span style=\"color: #7fbfbf; text-decoration-color: #7fbfbf\">                    </span><span style=\"color: #008000; text-decoration-color: #008000\">DEBUG   </span> Found <span style=\"color: #008080; text-decoration-color: #008080; font-weight: bold\">97</span> nodes in the chain subgraph.           <a href=\"file:///home/atj39/github/graphein/graphein/protein/subgraphs.py\" target=\"_blank\"><span style=\"color: #7f7f7f; text-decoration-color: #7f7f7f\">subgraphs.py</span></a><span style=\"color: #7f7f7f; text-decoration-color: #7f7f7f\">:</span><a href=\"file:///home/atj39/github/graphein/graphein/protein/subgraphs.py#266\" target=\"_blank\"><span style=\"color: #7f7f7f; text-decoration-color: #7f7f7f\">266</span></a>\n",
       "</pre>\n"
      ],
      "text/plain": [
       "\u001b[2;36m                   \u001b[0m\u001b[2;36m \u001b[0m\u001b[32mDEBUG   \u001b[0m Found \u001b[1;36m97\u001b[0m nodes in the chain subgraph.           \u001b]8;id=306792;file:///home/atj39/github/graphein/graphein/protein/subgraphs.py\u001b\\\u001b[2msubgraphs.py\u001b[0m\u001b]8;;\u001b\\\u001b[2m:\u001b[0m\u001b]8;id=937503;file:///home/atj39/github/graphein/graphein/protein/subgraphs.py#266\u001b\\\u001b[2m266\u001b[0m\u001b]8;;\u001b\\\n"
      ]
     },
     "metadata": {},
     "output_type": "display_data"
    },
    {
     "data": {
      "text/html": [
       "<pre style=\"white-space:pre;overflow-x:auto;line-height:normal;font-family:Menlo,'DejaVu Sans Mono',consolas,'Courier New',monospace\"><span style=\"color: #7fbfbf; text-decoration-color: #7fbfbf\">                    </span><span style=\"color: #008000; text-decoration-color: #008000\">DEBUG   </span> Creating subgraph from nodes: <span style=\"font-weight: bold\">[</span><span style=\"color: #008000; text-decoration-color: #008000\">'A:ASP:53'</span>,       <a href=\"file:///home/atj39/github/graphein/graphein/protein/subgraphs.py\" target=\"_blank\"><span style=\"color: #7f7f7f; text-decoration-color: #7f7f7f\">subgraphs.py</span></a><span style=\"color: #7f7f7f; text-decoration-color: #7f7f7f\">:</span><a href=\"file:///home/atj39/github/graphein/graphein/protein/subgraphs.py#57\" target=\"_blank\"><span style=\"color: #7f7f7f; text-decoration-color: #7f7f7f\">57</span></a>\n",
       "<span style=\"color: #7fbfbf; text-decoration-color: #7fbfbf\">                    </span>         <span style=\"color: #008000; text-decoration-color: #008000\">'A:PHE:56'</span>, <span style=\"color: #008000; text-decoration-color: #008000\">'A:ASP:76'</span>, <span style=\"color: #008000; text-decoration-color: #008000\">'A:SER:52'</span>, <span style=\"color: #008000; text-decoration-color: #008000\">'A:VAL:93'</span>,  <span style=\"color: #7f7f7f; text-decoration-color: #7f7f7f\">               </span>\n",
       "<span style=\"color: #7fbfbf; text-decoration-color: #7fbfbf\">                    </span>         <span style=\"color: #008000; text-decoration-color: #008000\">'A:SER:61'</span>, <span style=\"color: #008000; text-decoration-color: #008000\">'A:SER:11'</span>, <span style=\"color: #008000; text-decoration-color: #008000\">'A:ARG:81'</span>, <span style=\"color: #008000; text-decoration-color: #008000\">'A:ASN:83'</span>,  <span style=\"color: #7f7f7f; text-decoration-color: #7f7f7f\">               </span>\n",
       "<span style=\"color: #7fbfbf; text-decoration-color: #7fbfbf\">                    </span>         <span style=\"color: #008000; text-decoration-color: #008000\">'A:CYS:25'</span>, <span style=\"color: #008000; text-decoration-color: #008000\">'A:ILE:92'</span>, <span style=\"color: #008000; text-decoration-color: #008000\">'A:VAL:82'</span>, <span style=\"color: #008000; text-decoration-color: #008000\">'A:GLU:69'</span>,  <span style=\"color: #7f7f7f; text-decoration-color: #7f7f7f\">               </span>\n",
       "<span style=\"color: #7fbfbf; text-decoration-color: #7fbfbf\">                    </span>         <span style=\"color: #008000; text-decoration-color: #008000\">'A:LEU:87'</span>, <span style=\"color: #008000; text-decoration-color: #008000\">'A:THR:4'</span>, <span style=\"color: #008000; text-decoration-color: #008000\">'A:GLU:16'</span>, <span style=\"color: #008000; text-decoration-color: #008000\">'A:ASN:42'</span>,   <span style=\"color: #7f7f7f; text-decoration-color: #7f7f7f\">               </span>\n",
       "<span style=\"color: #7fbfbf; text-decoration-color: #7fbfbf\">                    </span>         <span style=\"color: #008000; text-decoration-color: #008000\">'A:GLY:43'</span>, <span style=\"color: #008000; text-decoration-color: #008000\">'A:LYS:48'</span>, <span style=\"color: #008000; text-decoration-color: #008000\">'A:TYR:67'</span>, <span style=\"color: #008000; text-decoration-color: #008000\">'A:ASN:24'</span>,  <span style=\"color: #7f7f7f; text-decoration-color: #7f7f7f\">               </span>\n",
       "<span style=\"color: #7fbfbf; text-decoration-color: #7fbfbf\">                    </span>         <span style=\"color: #008000; text-decoration-color: #008000\">'A:SER:57'</span>, <span style=\"color: #008000; text-decoration-color: #008000\">'A:LEU:23'</span>, <span style=\"color: #008000; text-decoration-color: #008000\">'A:HIS:84'</span>, <span style=\"color: #008000; text-decoration-color: #008000\">'A:PRO:90'</span>,  <span style=\"color: #7f7f7f; text-decoration-color: #7f7f7f\">               </span>\n",
       "<span style=\"color: #7fbfbf; text-decoration-color: #7fbfbf\">                    </span>         <span style=\"color: #008000; text-decoration-color: #008000\">'A:PRO:5'</span>, <span style=\"color: #008000; text-decoration-color: #008000\">'A:ILE:7'</span>, <span style=\"color: #008000; text-decoration-color: #008000\">'A:TYR:26'</span>, <span style=\"color: #008000; text-decoration-color: #008000\">'A:ILE:35'</span>,    <span style=\"color: #7f7f7f; text-decoration-color: #7f7f7f\">               </span>\n",
       "<span style=\"color: #7fbfbf; text-decoration-color: #7fbfbf\">                    </span>         <span style=\"color: #008000; text-decoration-color: #008000\">'A:GLY:18'</span>, <span style=\"color: #008000; text-decoration-color: #008000\">'A:LEU:65'</span>, <span style=\"color: #008000; text-decoration-color: #008000\">'A:HIS:51'</span>, <span style=\"color: #008000; text-decoration-color: #008000\">'A:ILE:46'</span>,  <span style=\"color: #7f7f7f; text-decoration-color: #7f7f7f\">               </span>\n",
       "<span style=\"color: #7fbfbf; text-decoration-color: #7fbfbf\">                    </span>         <span style=\"color: #008000; text-decoration-color: #008000\">'A:LYS:19'</span>, <span style=\"color: #008000; text-decoration-color: #008000\">'A:ASP:59'</span>, <span style=\"color: #008000; text-decoration-color: #008000\">'A:PHE:30'</span>, <span style=\"color: #008000; text-decoration-color: #008000\">'A:VAL:49'</span>,  <span style=\"color: #7f7f7f; text-decoration-color: #7f7f7f\">               </span>\n",
       "<span style=\"color: #7fbfbf; text-decoration-color: #7fbfbf\">                    </span>         <span style=\"color: #008000; text-decoration-color: #008000\">'A:ASP:38'</span>, <span style=\"color: #008000; text-decoration-color: #008000\">'A:THR:68'</span>, <span style=\"color: #008000; text-decoration-color: #008000\">'A:CYS:80'</span>, <span style=\"color: #008000; text-decoration-color: #008000\">'A:LYS:58'</span>,  <span style=\"color: #7f7f7f; text-decoration-color: #7f7f7f\">               </span>\n",
       "<span style=\"color: #7fbfbf; text-decoration-color: #7fbfbf\">                    </span>         <span style=\"color: #008000; text-decoration-color: #008000\">'A:ASN:21'</span>, <span style=\"color: #008000; text-decoration-color: #008000\">'A:GLN:2'</span>, <span style=\"color: #008000; text-decoration-color: #008000\">'A:ALA:15'</span>, <span style=\"color: #008000; text-decoration-color: #008000\">'A:ASN:17'</span>,   <span style=\"color: #7f7f7f; text-decoration-color: #7f7f7f\">               </span>\n",
       "<span style=\"color: #7fbfbf; text-decoration-color: #7fbfbf\">                    </span>         <span style=\"color: #008000; text-decoration-color: #008000\">'A:ARG:45'</span>, <span style=\"color: #008000; text-decoration-color: #008000\">'A:MET:0'</span>, <span style=\"color: #008000; text-decoration-color: #008000\">'A:VAL:27'</span>, <span style=\"color: #008000; text-decoration-color: #008000\">'A:GLU:77'</span>,   <span style=\"color: #7f7f7f; text-decoration-color: #7f7f7f\">               </span>\n",
       "<span style=\"color: #7fbfbf; text-decoration-color: #7fbfbf\">                    </span>         <span style=\"color: #008000; text-decoration-color: #008000\">'A:LYS:94'</span>, <span style=\"color: #008000; text-decoration-color: #008000\">'A:VAL:37'</span>, <span style=\"color: #008000; text-decoration-color: #008000\">'A:VAL:85'</span>, <span style=\"color: #008000; text-decoration-color: #008000\">'A:GLN:89'</span>,  <span style=\"color: #7f7f7f; text-decoration-color: #7f7f7f\">               </span>\n",
       "<span style=\"color: #7fbfbf; text-decoration-color: #7fbfbf\">                    </span>         <span style=\"color: #008000; text-decoration-color: #008000\">'A:THR:71'</span>, <span style=\"color: #008000; text-decoration-color: #008000\">'A:THR:73'</span>, <span style=\"color: #008000; text-decoration-color: #008000\">'A:LEU:54'</span>, <span style=\"color: #008000; text-decoration-color: #008000\">'A:LYS:75'</span>,  <span style=\"color: #7f7f7f; text-decoration-color: #7f7f7f\">               </span>\n",
       "<span style=\"color: #7fbfbf; text-decoration-color: #7fbfbf\">                    </span>         <span style=\"color: #008000; text-decoration-color: #008000\">'A:PHE:22'</span>, <span style=\"color: #008000; text-decoration-color: #008000\">'A:GLU:47'</span>, <span style=\"color: #008000; text-decoration-color: #008000\">'A:ARG:3'</span>, <span style=\"color: #008000; text-decoration-color: #008000\">'A:PHE:62'</span>,   <span style=\"color: #7f7f7f; text-decoration-color: #7f7f7f\">               </span>\n",
       "<span style=\"color: #7fbfbf; text-decoration-color: #7fbfbf\">                    </span>         <span style=\"color: #008000; text-decoration-color: #008000\">'A:GLY:29'</span>, <span style=\"color: #008000; text-decoration-color: #008000\">'A:LEU:39'</span>, <span style=\"color: #008000; text-decoration-color: #008000\">'A:PRO:14'</span>, <span style=\"color: #008000; text-decoration-color: #008000\">'A:THR:86'</span>,  <span style=\"color: #7f7f7f; text-decoration-color: #7f7f7f\">               </span>\n",
       "<span style=\"color: #7fbfbf; text-decoration-color: #7fbfbf\">                    </span>         <span style=\"color: #008000; text-decoration-color: #008000\">'A:TYR:63'</span>, <span style=\"color: #008000; text-decoration-color: #008000\">'A:GLU:50'</span>, <span style=\"color: #008000; text-decoration-color: #008000\">'A:SER:55'</span>, <span style=\"color: #008000; text-decoration-color: #008000\">'A:PRO:72'</span>,  <span style=\"color: #7f7f7f; text-decoration-color: #7f7f7f\">               </span>\n",
       "<span style=\"color: #7fbfbf; text-decoration-color: #7fbfbf\">                    </span>         <span style=\"color: #008000; text-decoration-color: #008000\">'A:HIS:31'</span>, <span style=\"color: #008000; text-decoration-color: #008000\">'A:SER:20'</span>, <span style=\"color: #008000; text-decoration-color: #008000\">'A:GLU:74'</span>, <span style=\"color: #008000; text-decoration-color: #008000\">'A:LYS:41'</span>,  <span style=\"color: #7f7f7f; text-decoration-color: #7f7f7f\">               </span>\n",
       "<span style=\"color: #7fbfbf; text-decoration-color: #7fbfbf\">                    </span>         <span style=\"color: #008000; text-decoration-color: #008000\">'A:TYR:10'</span>, <span style=\"color: #008000; text-decoration-color: #008000\">'A:GLU:36'</span>, <span style=\"color: #008000; text-decoration-color: #008000\">'A:ARG:12'</span>, <span style=\"color: #008000; text-decoration-color: #008000\">'A:TRP:95'</span>,  <span style=\"color: #7f7f7f; text-decoration-color: #7f7f7f\">               </span>\n",
       "<span style=\"color: #7fbfbf; text-decoration-color: #7fbfbf\">                    </span>         <span style=\"color: #008000; text-decoration-color: #008000\">'A:SER:88'</span>, <span style=\"color: #008000; text-decoration-color: #008000\">'A:SER:33'</span>, <span style=\"color: #008000; text-decoration-color: #008000\">'A:TYR:66'</span>, <span style=\"color: #008000; text-decoration-color: #008000\">'A:SER:28'</span>,  <span style=\"color: #7f7f7f; text-decoration-color: #7f7f7f\">               </span>\n",
       "<span style=\"color: #7fbfbf; text-decoration-color: #7fbfbf\">                    </span>         <span style=\"color: #008000; text-decoration-color: #008000\">'A:LEU:64'</span>, <span style=\"color: #008000; text-decoration-color: #008000\">'A:GLU:44'</span>, <span style=\"color: #008000; text-decoration-color: #008000\">'A:TYR:78'</span>, <span style=\"color: #008000; text-decoration-color: #008000\">'A:HIS:13'</span>,  <span style=\"color: #7f7f7f; text-decoration-color: #7f7f7f\">               </span>\n",
       "<span style=\"color: #7fbfbf; text-decoration-color: #7fbfbf\">                    </span>         <span style=\"color: #008000; text-decoration-color: #008000\">'A:LYS:91'</span>, <span style=\"color: #008000; text-decoration-color: #008000\">'A:ILE:1'</span>, <span style=\"color: #008000; text-decoration-color: #008000\">'A:ALA:79'</span>, <span style=\"color: #008000; text-decoration-color: #008000\">'A:ASP:96'</span>,   <span style=\"color: #7f7f7f; text-decoration-color: #7f7f7f\">               </span>\n",
       "<span style=\"color: #7fbfbf; text-decoration-color: #7fbfbf\">                    </span>         <span style=\"color: #008000; text-decoration-color: #008000\">'A:LYS:6'</span>, <span style=\"color: #008000; text-decoration-color: #008000\">'A:LEU:40'</span>, <span style=\"color: #008000; text-decoration-color: #008000\">'A:TRP:60'</span>, <span style=\"color: #008000; text-decoration-color: #008000\">'A:GLN:8'</span>,    <span style=\"color: #7f7f7f; text-decoration-color: #7f7f7f\">               </span>\n",
       "<span style=\"color: #7fbfbf; text-decoration-color: #7fbfbf\">                    </span>         <span style=\"color: #008000; text-decoration-color: #008000\">'A:VAL:9'</span>, <span style=\"color: #008000; text-decoration-color: #008000\">'A:PRO:32'</span>, <span style=\"color: #008000; text-decoration-color: #008000\">'A:PHE:70'</span>, <span style=\"color: #008000; text-decoration-color: #008000\">'A:ASP:34'</span><span style=\"font-weight: bold\">]</span>.  <span style=\"color: #7f7f7f; text-decoration-color: #7f7f7f\">               </span>\n",
       "</pre>\n"
      ],
      "text/plain": [
       "\u001b[2;36m                   \u001b[0m\u001b[2;36m \u001b[0m\u001b[32mDEBUG   \u001b[0m Creating subgraph from nodes: \u001b[1m[\u001b[0m\u001b[32m'A:ASP:53'\u001b[0m,       \u001b]8;id=481381;file:///home/atj39/github/graphein/graphein/protein/subgraphs.py\u001b\\\u001b[2msubgraphs.py\u001b[0m\u001b]8;;\u001b\\\u001b[2m:\u001b[0m\u001b]8;id=322522;file:///home/atj39/github/graphein/graphein/protein/subgraphs.py#57\u001b\\\u001b[2m57\u001b[0m\u001b]8;;\u001b\\\n",
       "\u001b[2;36m                    \u001b[0m         \u001b[32m'A:PHE:56'\u001b[0m, \u001b[32m'A:ASP:76'\u001b[0m, \u001b[32m'A:SER:52'\u001b[0m, \u001b[32m'A:VAL:93'\u001b[0m,  \u001b[2m               \u001b[0m\n",
       "\u001b[2;36m                    \u001b[0m         \u001b[32m'A:SER:61'\u001b[0m, \u001b[32m'A:SER:11'\u001b[0m, \u001b[32m'A:ARG:81'\u001b[0m, \u001b[32m'A:ASN:83'\u001b[0m,  \u001b[2m               \u001b[0m\n",
       "\u001b[2;36m                    \u001b[0m         \u001b[32m'A:CYS:25'\u001b[0m, \u001b[32m'A:ILE:92'\u001b[0m, \u001b[32m'A:VAL:82'\u001b[0m, \u001b[32m'A:GLU:69'\u001b[0m,  \u001b[2m               \u001b[0m\n",
       "\u001b[2;36m                    \u001b[0m         \u001b[32m'A:LEU:87'\u001b[0m, \u001b[32m'A:THR:4'\u001b[0m, \u001b[32m'A:GLU:16'\u001b[0m, \u001b[32m'A:ASN:42'\u001b[0m,   \u001b[2m               \u001b[0m\n",
       "\u001b[2;36m                    \u001b[0m         \u001b[32m'A:GLY:43'\u001b[0m, \u001b[32m'A:LYS:48'\u001b[0m, \u001b[32m'A:TYR:67'\u001b[0m, \u001b[32m'A:ASN:24'\u001b[0m,  \u001b[2m               \u001b[0m\n",
       "\u001b[2;36m                    \u001b[0m         \u001b[32m'A:SER:57'\u001b[0m, \u001b[32m'A:LEU:23'\u001b[0m, \u001b[32m'A:HIS:84'\u001b[0m, \u001b[32m'A:PRO:90'\u001b[0m,  \u001b[2m               \u001b[0m\n",
       "\u001b[2;36m                    \u001b[0m         \u001b[32m'A:PRO:5'\u001b[0m, \u001b[32m'A:ILE:7'\u001b[0m, \u001b[32m'A:TYR:26'\u001b[0m, \u001b[32m'A:ILE:35'\u001b[0m,    \u001b[2m               \u001b[0m\n",
       "\u001b[2;36m                    \u001b[0m         \u001b[32m'A:GLY:18'\u001b[0m, \u001b[32m'A:LEU:65'\u001b[0m, \u001b[32m'A:HIS:51'\u001b[0m, \u001b[32m'A:ILE:46'\u001b[0m,  \u001b[2m               \u001b[0m\n",
       "\u001b[2;36m                    \u001b[0m         \u001b[32m'A:LYS:19'\u001b[0m, \u001b[32m'A:ASP:59'\u001b[0m, \u001b[32m'A:PHE:30'\u001b[0m, \u001b[32m'A:VAL:49'\u001b[0m,  \u001b[2m               \u001b[0m\n",
       "\u001b[2;36m                    \u001b[0m         \u001b[32m'A:ASP:38'\u001b[0m, \u001b[32m'A:THR:68'\u001b[0m, \u001b[32m'A:CYS:80'\u001b[0m, \u001b[32m'A:LYS:58'\u001b[0m,  \u001b[2m               \u001b[0m\n",
       "\u001b[2;36m                    \u001b[0m         \u001b[32m'A:ASN:21'\u001b[0m, \u001b[32m'A:GLN:2'\u001b[0m, \u001b[32m'A:ALA:15'\u001b[0m, \u001b[32m'A:ASN:17'\u001b[0m,   \u001b[2m               \u001b[0m\n",
       "\u001b[2;36m                    \u001b[0m         \u001b[32m'A:ARG:45'\u001b[0m, \u001b[32m'A:MET:0'\u001b[0m, \u001b[32m'A:VAL:27'\u001b[0m, \u001b[32m'A:GLU:77'\u001b[0m,   \u001b[2m               \u001b[0m\n",
       "\u001b[2;36m                    \u001b[0m         \u001b[32m'A:LYS:94'\u001b[0m, \u001b[32m'A:VAL:37'\u001b[0m, \u001b[32m'A:VAL:85'\u001b[0m, \u001b[32m'A:GLN:89'\u001b[0m,  \u001b[2m               \u001b[0m\n",
       "\u001b[2;36m                    \u001b[0m         \u001b[32m'A:THR:71'\u001b[0m, \u001b[32m'A:THR:73'\u001b[0m, \u001b[32m'A:LEU:54'\u001b[0m, \u001b[32m'A:LYS:75'\u001b[0m,  \u001b[2m               \u001b[0m\n",
       "\u001b[2;36m                    \u001b[0m         \u001b[32m'A:PHE:22'\u001b[0m, \u001b[32m'A:GLU:47'\u001b[0m, \u001b[32m'A:ARG:3'\u001b[0m, \u001b[32m'A:PHE:62'\u001b[0m,   \u001b[2m               \u001b[0m\n",
       "\u001b[2;36m                    \u001b[0m         \u001b[32m'A:GLY:29'\u001b[0m, \u001b[32m'A:LEU:39'\u001b[0m, \u001b[32m'A:PRO:14'\u001b[0m, \u001b[32m'A:THR:86'\u001b[0m,  \u001b[2m               \u001b[0m\n",
       "\u001b[2;36m                    \u001b[0m         \u001b[32m'A:TYR:63'\u001b[0m, \u001b[32m'A:GLU:50'\u001b[0m, \u001b[32m'A:SER:55'\u001b[0m, \u001b[32m'A:PRO:72'\u001b[0m,  \u001b[2m               \u001b[0m\n",
       "\u001b[2;36m                    \u001b[0m         \u001b[32m'A:HIS:31'\u001b[0m, \u001b[32m'A:SER:20'\u001b[0m, \u001b[32m'A:GLU:74'\u001b[0m, \u001b[32m'A:LYS:41'\u001b[0m,  \u001b[2m               \u001b[0m\n",
       "\u001b[2;36m                    \u001b[0m         \u001b[32m'A:TYR:10'\u001b[0m, \u001b[32m'A:GLU:36'\u001b[0m, \u001b[32m'A:ARG:12'\u001b[0m, \u001b[32m'A:TRP:95'\u001b[0m,  \u001b[2m               \u001b[0m\n",
       "\u001b[2;36m                    \u001b[0m         \u001b[32m'A:SER:88'\u001b[0m, \u001b[32m'A:SER:33'\u001b[0m, \u001b[32m'A:TYR:66'\u001b[0m, \u001b[32m'A:SER:28'\u001b[0m,  \u001b[2m               \u001b[0m\n",
       "\u001b[2;36m                    \u001b[0m         \u001b[32m'A:LEU:64'\u001b[0m, \u001b[32m'A:GLU:44'\u001b[0m, \u001b[32m'A:TYR:78'\u001b[0m, \u001b[32m'A:HIS:13'\u001b[0m,  \u001b[2m               \u001b[0m\n",
       "\u001b[2;36m                    \u001b[0m         \u001b[32m'A:LYS:91'\u001b[0m, \u001b[32m'A:ILE:1'\u001b[0m, \u001b[32m'A:ALA:79'\u001b[0m, \u001b[32m'A:ASP:96'\u001b[0m,   \u001b[2m               \u001b[0m\n",
       "\u001b[2;36m                    \u001b[0m         \u001b[32m'A:LYS:6'\u001b[0m, \u001b[32m'A:LEU:40'\u001b[0m, \u001b[32m'A:TRP:60'\u001b[0m, \u001b[32m'A:GLN:8'\u001b[0m,    \u001b[2m               \u001b[0m\n",
       "\u001b[2;36m                    \u001b[0m         \u001b[32m'A:VAL:9'\u001b[0m, \u001b[32m'A:PRO:32'\u001b[0m, \u001b[32m'A:PHE:70'\u001b[0m, \u001b[32m'A:ASP:34'\u001b[0m\u001b[1m]\u001b[0m.  \u001b[2m               \u001b[0m\n"
      ]
     },
     "metadata": {},
     "output_type": "display_data"
    },
    {
     "data": {
      "text/html": [
       "<pre style=\"white-space:pre;overflow-x:auto;line-height:normal;font-family:Menlo,'DejaVu Sans Mono',consolas,'Courier New',monospace\"><span style=\"color: #7fbfbf; text-decoration-color: #7fbfbf\">                    </span><span style=\"color: #008000; text-decoration-color: #008000\">DEBUG   </span> Found <span style=\"color: #008080; text-decoration-color: #008080; font-weight: bold\">148</span> nodes in the chain subgraph.          <a href=\"file:///home/atj39/github/graphein/graphein/protein/subgraphs.py\" target=\"_blank\"><span style=\"color: #7f7f7f; text-decoration-color: #7f7f7f\">subgraphs.py</span></a><span style=\"color: #7f7f7f; text-decoration-color: #7f7f7f\">:</span><a href=\"file:///home/atj39/github/graphein/graphein/protein/subgraphs.py#266\" target=\"_blank\"><span style=\"color: #7f7f7f; text-decoration-color: #7f7f7f\">266</span></a>\n",
       "</pre>\n"
      ],
      "text/plain": [
       "\u001b[2;36m                   \u001b[0m\u001b[2;36m \u001b[0m\u001b[32mDEBUG   \u001b[0m Found \u001b[1;36m148\u001b[0m nodes in the chain subgraph.          \u001b]8;id=748370;file:///home/atj39/github/graphein/graphein/protein/subgraphs.py\u001b\\\u001b[2msubgraphs.py\u001b[0m\u001b]8;;\u001b\\\u001b[2m:\u001b[0m\u001b]8;id=482323;file:///home/atj39/github/graphein/graphein/protein/subgraphs.py#266\u001b\\\u001b[2m266\u001b[0m\u001b]8;;\u001b\\\n"
      ]
     },
     "metadata": {},
     "output_type": "display_data"
    },
    {
     "data": {
      "text/html": [
       "<pre style=\"white-space:pre;overflow-x:auto;line-height:normal;font-family:Menlo,'DejaVu Sans Mono',consolas,'Courier New',monospace\"><span style=\"color: #7fbfbf; text-decoration-color: #7fbfbf\">                    </span><span style=\"color: #008000; text-decoration-color: #008000\">DEBUG   </span> Creating subgraph from nodes: <span style=\"font-weight: bold\">[</span><span style=\"color: #008000; text-decoration-color: #008000\">'A:PHE:16'</span>,       <a href=\"file:///home/atj39/github/graphein/graphein/protein/subgraphs.py\" target=\"_blank\"><span style=\"color: #7f7f7f; text-decoration-color: #7f7f7f\">subgraphs.py</span></a><span style=\"color: #7f7f7f; text-decoration-color: #7f7f7f\">:</span><a href=\"file:///home/atj39/github/graphein/graphein/protein/subgraphs.py#57\" target=\"_blank\"><span style=\"color: #7f7f7f; text-decoration-color: #7f7f7f\">57</span></a>\n",
       "<span style=\"color: #7fbfbf; text-decoration-color: #7fbfbf\">                    </span>         <span style=\"color: #008000; text-decoration-color: #008000\">'A:GLU:83'</span>, <span style=\"color: #008000; text-decoration-color: #008000\">'A:ASP:22'</span>, <span style=\"color: #008000; text-decoration-color: #008000\">'A:GLY:59'</span>, <span style=\"color: #008000; text-decoration-color: #008000\">'A:ARG:90'</span>,  <span style=\"color: #7f7f7f; text-decoration-color: #7f7f7f\">               </span>\n",
       "<span style=\"color: #7fbfbf; text-decoration-color: #7fbfbf\">                    </span>         <span style=\"color: #008000; text-decoration-color: #008000\">'A:LEU:4'</span>, <span style=\"color: #008000; text-decoration-color: #008000\">'A:ARG:106'</span>, <span style=\"color: #008000; text-decoration-color: #008000\">'A:GLY:132'</span>, <span style=\"color: #008000; text-decoration-color: #008000\">'A:ASP:58'</span>, <span style=\"color: #7f7f7f; text-decoration-color: #7f7f7f\">               </span>\n",
       "<span style=\"color: #7fbfbf; text-decoration-color: #7fbfbf\">                    </span>         <span style=\"color: #008000; text-decoration-color: #008000\">'A:ALA:88'</span>, <span style=\"color: #008000; text-decoration-color: #008000\">'A:ARG:37'</span>, <span style=\"color: #008000; text-decoration-color: #008000\">'A:MET:71'</span>, <span style=\"color: #008000; text-decoration-color: #008000\">'A:LYS:21'</span>,  <span style=\"color: #7f7f7f; text-decoration-color: #7f7f7f\">               </span>\n",
       "<span style=\"color: #7fbfbf; text-decoration-color: #7fbfbf\">                    </span>         <span style=\"color: #008000; text-decoration-color: #008000\">'A:GLU:114'</span>, <span style=\"color: #008000; text-decoration-color: #008000\">'A:ASP:95'</span>, <span style=\"color: #008000; text-decoration-color: #008000\">'A:GLY:23'</span>, <span style=\"color: #008000; text-decoration-color: #008000\">'A:GLU:82'</span>, <span style=\"color: #7f7f7f; text-decoration-color: #7f7f7f\">               </span>\n",
       "<span style=\"color: #7fbfbf; text-decoration-color: #7fbfbf\">                    </span>         <span style=\"color: #008000; text-decoration-color: #008000\">'A:ALA:103'</span>, <span style=\"color: #008000; text-decoration-color: #008000\">'A:GLU:54'</span>, <span style=\"color: #008000; text-decoration-color: #008000\">'A:ALA:147'</span>,            <span style=\"color: #7f7f7f; text-decoration-color: #7f7f7f\">               </span>\n",
       "<span style=\"color: #7fbfbf; text-decoration-color: #7fbfbf\">                    </span>         <span style=\"color: #008000; text-decoration-color: #008000\">'A:ARG:126'</span>, <span style=\"color: #008000; text-decoration-color: #008000\">'A:GLU:45'</span>, <span style=\"color: #008000; text-decoration-color: #008000\">'A:THR:28'</span>, <span style=\"color: #008000; text-decoration-color: #008000\">'A:ALA:1'</span>,  <span style=\"color: #7f7f7f; text-decoration-color: #7f7f7f\">               </span>\n",
       "<span style=\"color: #7fbfbf; text-decoration-color: #7fbfbf\">                    </span>         <span style=\"color: #008000; text-decoration-color: #008000\">'A:ALA:46'</span>, <span style=\"color: #008000; text-decoration-color: #008000\">'A:ALA:73'</span>, <span style=\"color: #008000; text-decoration-color: #008000\">'A:GLU:67'</span>, <span style=\"color: #008000; text-decoration-color: #008000\">'A:SER:81'</span>,  <span style=\"color: #7f7f7f; text-decoration-color: #7f7f7f\">               </span>\n",
       "<span style=\"color: #7fbfbf; text-decoration-color: #7fbfbf\">                    </span>         <span style=\"color: #008000; text-decoration-color: #008000\">'A:GLU:84'</span>, <span style=\"color: #008000; text-decoration-color: #008000\">'A:VAL:108'</span>, <span style=\"color: #008000; text-decoration-color: #008000\">'A:ASN:42'</span>,             <span style=\"color: #7f7f7f; text-decoration-color: #7f7f7f\">               </span>\n",
       "<span style=\"color: #7fbfbf; text-decoration-color: #7fbfbf\">                    </span>         <span style=\"color: #008000; text-decoration-color: #008000\">'A:LYS:115'</span>, <span style=\"color: #008000; text-decoration-color: #008000\">'A:THR:5'</span>, <span style=\"color: #008000; text-decoration-color: #008000\">'A:ILE:63'</span>, <span style=\"color: #008000; text-decoration-color: #008000\">'A:ASP:2'</span>,   <span style=\"color: #7f7f7f; text-decoration-color: #7f7f7f\">               </span>\n",
       "<span style=\"color: #7fbfbf; text-decoration-color: #7fbfbf\">                    </span>         <span style=\"color: #008000; text-decoration-color: #008000\">'A:ASP:80'</span>, <span style=\"color: #008000; text-decoration-color: #008000\">'A:ALA:128'</span>, <span style=\"color: #008000; text-decoration-color: #008000\">'A:ASP:50'</span>, <span style=\"color: #008000; text-decoration-color: #008000\">'A:SER:17'</span>, <span style=\"color: #7f7f7f; text-decoration-color: #7f7f7f\">               </span>\n",
       "<span style=\"color: #7fbfbf; text-decoration-color: #7fbfbf\">                    </span>         <span style=\"color: #008000; text-decoration-color: #008000\">'A:ASP:129'</span>, <span style=\"color: #008000; text-decoration-color: #008000\">'A:VAL:136'</span>, <span style=\"color: #008000; text-decoration-color: #008000\">'A:LEU:48'</span>,            <span style=\"color: #7f7f7f; text-decoration-color: #7f7f7f\">               </span>\n",
       "<span style=\"color: #7fbfbf; text-decoration-color: #7fbfbf\">                    </span>         <span style=\"color: #008000; text-decoration-color: #008000\">'A:PHE:141'</span>, <span style=\"color: #008000; text-decoration-color: #008000\">'A:ILE:85'</span>, <span style=\"color: #008000; text-decoration-color: #008000\">'A:GLY:33'</span>, <span style=\"color: #008000; text-decoration-color: #008000\">'A:MET:51'</span>, <span style=\"color: #7f7f7f; text-decoration-color: #7f7f7f\">               </span>\n",
       "<span style=\"color: #7fbfbf; text-decoration-color: #7fbfbf\">                    </span>         <span style=\"color: #008000; text-decoration-color: #008000\">'A:GLY:134'</span>, <span style=\"color: #008000; text-decoration-color: #008000\">'A:ILE:125'</span>, <span style=\"color: #008000; text-decoration-color: #008000\">'A:ASN:97'</span>,            <span style=\"color: #7f7f7f; text-decoration-color: #7f7f7f\">               </span>\n",
       "<span style=\"color: #7fbfbf; text-decoration-color: #7fbfbf\">                    </span>         <span style=\"color: #008000; text-decoration-color: #008000\">'A:GLU:120'</span>, <span style=\"color: #008000; text-decoration-color: #008000\">'A:THR:110'</span>, <span style=\"color: #008000; text-decoration-color: #008000\">'A:ASP:93'</span>,            <span style=\"color: #7f7f7f; text-decoration-color: #7f7f7f\">               </span>\n",
       "<span style=\"color: #7fbfbf; text-decoration-color: #7fbfbf\">                    </span>         <span style=\"color: #008000; text-decoration-color: #008000\">'A:SER:101'</span>, <span style=\"color: #008000; text-decoration-color: #008000\">'A:ILE:9'</span>, <span style=\"color: #008000; text-decoration-color: #008000\">'A:ASP:20'</span>, <span style=\"color: #008000; text-decoration-color: #008000\">'A:ASN:53'</span>,  <span style=\"color: #7f7f7f; text-decoration-color: #7f7f7f\">               </span>\n",
       "<span style=\"color: #7fbfbf; text-decoration-color: #7fbfbf\">                    </span>         <span style=\"color: #008000; text-decoration-color: #008000\">'A:GLU:127'</span>, <span style=\"color: #008000; text-decoration-color: #008000\">'A:VAL:142'</span>, <span style=\"color: #008000; text-decoration-color: #008000\">'A:ASP:122'</span>,           <span style=\"color: #7f7f7f; text-decoration-color: #7f7f7f\">               </span>\n",
       "<span style=\"color: #7fbfbf; text-decoration-color: #7fbfbf\">                    </span>         <span style=\"color: #008000; text-decoration-color: #008000\">'A:GLU:7'</span>, <span style=\"color: #008000; text-decoration-color: #008000\">'A:ALA:15'</span>, <span style=\"color: #008000; text-decoration-color: #008000\">'A:GLY:25'</span>, <span style=\"color: #008000; text-decoration-color: #008000\">'A:VAL:35'</span>,   <span style=\"color: #7f7f7f; text-decoration-color: #7f7f7f\">               </span>\n",
       "<span style=\"color: #7fbfbf; text-decoration-color: #7fbfbf\">                    </span>         <span style=\"color: #008000; text-decoration-color: #008000\">'A:MET:76'</span>, <span style=\"color: #008000; text-decoration-color: #008000\">'A:GLY:61'</span>, <span style=\"color: #008000; text-decoration-color: #008000\">'A:LEU:116'</span>, <span style=\"color: #008000; text-decoration-color: #008000\">'A:LYS:94'</span>, <span style=\"color: #7f7f7f; text-decoration-color: #7f7f7f\">               </span>\n",
       "<span style=\"color: #7fbfbf; text-decoration-color: #7fbfbf\">                    </span>         <span style=\"color: #008000; text-decoration-color: #008000\">'A:LEU:18'</span>, <span style=\"color: #008000; text-decoration-color: #008000\">'A:THR:34'</span>, <span style=\"color: #008000; text-decoration-color: #008000\">'A:GLU:140'</span>, <span style=\"color: #008000; text-decoration-color: #008000\">'A:LYS:13'</span>, <span style=\"color: #7f7f7f; text-decoration-color: #7f7f7f\">               </span>\n",
       "<span style=\"color: #7fbfbf; text-decoration-color: #7fbfbf\">                    </span>         <span style=\"color: #008000; text-decoration-color: #008000\">'A:ARG:74'</span>, <span style=\"color: #008000; text-decoration-color: #008000\">'A:PHE:92'</span>, <span style=\"color: #008000; text-decoration-color: #008000\">'A:ARG:86'</span>, <span style=\"color: #008000; text-decoration-color: #008000\">'A:GLY:98'</span>,  <span style=\"color: #7f7f7f; text-decoration-color: #7f7f7f\">               </span>\n",
       "<span style=\"color: #7fbfbf; text-decoration-color: #7fbfbf\">                    </span>         <span style=\"color: #008000; text-decoration-color: #008000\">'A:GLY:113'</span>, <span style=\"color: #008000; text-decoration-color: #008000\">'A:LEU:69'</span>, <span style=\"color: #008000; text-decoration-color: #008000\">'A:THR:29'</span>, <span style=\"color: #008000; text-decoration-color: #008000\">'A:MET:36'</span>, <span style=\"color: #7f7f7f; text-decoration-color: #7f7f7f\">               </span>\n",
       "<span style=\"color: #7fbfbf; text-decoration-color: #7fbfbf\">                    </span>         <span style=\"color: #008000; text-decoration-color: #008000\">'A:LYS:75'</span>, <span style=\"color: #008000; text-decoration-color: #008000\">'A:LEU:32'</span>, <span style=\"color: #008000; text-decoration-color: #008000\">'A:GLU:123'</span>, <span style=\"color: #008000; text-decoration-color: #008000\">'A:GLU:47'</span>, <span style=\"color: #7f7f7f; text-decoration-color: #7f7f7f\">               </span>\n",
       "<span style=\"color: #7fbfbf; text-decoration-color: #7fbfbf\">                    </span>         <span style=\"color: #008000; text-decoration-color: #008000\">'A:VAL:121'</span>, <span style=\"color: #008000; text-decoration-color: #008000\">'A:ASP:24'</span>, <span style=\"color: #008000; text-decoration-color: #008000\">'A:THR:44'</span>, <span style=\"color: #008000; text-decoration-color: #008000\">'A:THR:62'</span>, <span style=\"color: #7f7f7f; text-decoration-color: #7f7f7f\">               </span>\n",
       "<span style=\"color: #7fbfbf; text-decoration-color: #7fbfbf\">                    </span>         <span style=\"color: #008000; text-decoration-color: #008000\">'A:ALA:102'</span>, <span style=\"color: #008000; text-decoration-color: #008000\">'A:MET:72'</span>, <span style=\"color: #008000; text-decoration-color: #008000\">'A:LEU:39'</span>, <span style=\"color: #008000; text-decoration-color: #008000\">'A:VAL:91'</span>, <span style=\"color: #7f7f7f; text-decoration-color: #7f7f7f\">               </span>\n",
       "<span style=\"color: #7fbfbf; text-decoration-color: #7fbfbf\">                    </span>         <span style=\"color: #008000; text-decoration-color: #008000\">'A:PHE:65'</span>, <span style=\"color: #008000; text-decoration-color: #008000\">'A:GLU:119'</span>, <span style=\"color: #008000; text-decoration-color: #008000\">'A:THR:146'</span>,            <span style=\"color: #7f7f7f; text-decoration-color: #7f7f7f\">               </span>\n",
       "<span style=\"color: #7fbfbf; text-decoration-color: #7fbfbf\">                    </span>         <span style=\"color: #008000; text-decoration-color: #008000\">'A:GLU:139'</span>, <span style=\"color: #008000; text-decoration-color: #008000\">'A:THR:117'</span>, <span style=\"color: #008000; text-decoration-color: #008000\">'A:GLN:135'</span>,           <span style=\"color: #7f7f7f; text-decoration-color: #7f7f7f\">               </span>\n",
       "<span style=\"color: #7fbfbf; text-decoration-color: #7fbfbf\">                    </span>         <span style=\"color: #008000; text-decoration-color: #008000\">'A:GLN:143'</span>, <span style=\"color: #008000; text-decoration-color: #008000\">'A:LEU:112'</span>, <span style=\"color: #008000; text-decoration-color: #008000\">'A:ASN:137'</span>,           <span style=\"color: #7f7f7f; text-decoration-color: #7f7f7f\">               </span>\n",
       "<span style=\"color: #7fbfbf; text-decoration-color: #7fbfbf\">                    </span>         <span style=\"color: #008000; text-decoration-color: #008000\">'A:ASP:64'</span>, <span style=\"color: #008000; text-decoration-color: #008000\">'A:GLY:40'</span>, <span style=\"color: #008000; text-decoration-color: #008000\">'A:ILE:27'</span>, <span style=\"color: #008000; text-decoration-color: #008000\">'A:GLY:96'</span>,  <span style=\"color: #7f7f7f; text-decoration-color: #7f7f7f\">               </span>\n",
       "<span style=\"color: #7fbfbf; text-decoration-color: #7fbfbf\">                    </span>         <span style=\"color: #008000; text-decoration-color: #008000\">'A:MET:109'</span>, <span style=\"color: #008000; text-decoration-color: #008000\">'A:GLN:49'</span>, <span style=\"color: #008000; text-decoration-color: #008000\">'A:ASP:78'</span>, <span style=\"color: #008000; text-decoration-color: #008000\">'A:PHE:89'</span>, <span style=\"color: #7f7f7f; text-decoration-color: #7f7f7f\">               </span>\n",
       "<span style=\"color: #7fbfbf; text-decoration-color: #7fbfbf\">                    </span>         <span style=\"color: #008000; text-decoration-color: #008000\">'A:ILE:100'</span>, <span style=\"color: #008000; text-decoration-color: #008000\">'A:VAL:55'</span>, <span style=\"color: #008000; text-decoration-color: #008000\">'A:THR:79'</span>, <span style=\"color: #008000; text-decoration-color: #008000\">'A:GLU:6'</span>,  <span style=\"color: #7f7f7f; text-decoration-color: #7f7f7f\">               </span>\n",
       "<span style=\"color: #7fbfbf; text-decoration-color: #7fbfbf\">                    </span>         <span style=\"color: #008000; text-decoration-color: #008000\">'A:GLU:104'</span>, <span style=\"color: #008000; text-decoration-color: #008000\">'A:MET:145'</span>, <span style=\"color: #008000; text-decoration-color: #008000\">'A:SER:38'</span>,            <span style=\"color: #7f7f7f; text-decoration-color: #7f7f7f\">               </span>\n",
       "<span style=\"color: #7fbfbf; text-decoration-color: #7fbfbf\">                    </span>         <span style=\"color: #008000; text-decoration-color: #008000\">'A:GLU:31'</span>, <span style=\"color: #008000; text-decoration-color: #008000\">'A:PRO:66'</span>, <span style=\"color: #008000; text-decoration-color: #008000\">'A:LYS:148'</span>, <span style=\"color: #008000; text-decoration-color: #008000\">'A:GLU:87'</span>, <span style=\"color: #7f7f7f; text-decoration-color: #7f7f7f\">               </span>\n",
       "<span style=\"color: #7fbfbf; text-decoration-color: #7fbfbf\">                    </span>         <span style=\"color: #008000; text-decoration-color: #008000\">'A:GLU:14'</span>, <span style=\"color: #008000; text-decoration-color: #008000\">'A:HIS:107'</span>, <span style=\"color: #008000; text-decoration-color: #008000\">'A:MET:144'</span>,            <span style=\"color: #7f7f7f; text-decoration-color: #7f7f7f\">               </span>\n",
       "<span style=\"color: #7fbfbf; text-decoration-color: #7fbfbf\">                    </span>         <span style=\"color: #008000; text-decoration-color: #008000\">'A:PHE:12'</span>, <span style=\"color: #008000; text-decoration-color: #008000\">'A:ASN:60'</span>, <span style=\"color: #008000; text-decoration-color: #008000\">'A:MET:124'</span>, <span style=\"color: #008000; text-decoration-color: #008000\">'A:ALA:57'</span>, <span style=\"color: #7f7f7f; text-decoration-color: #7f7f7f\">               </span>\n",
       "<span style=\"color: #7fbfbf; text-decoration-color: #7fbfbf\">                    </span>         <span style=\"color: #008000; text-decoration-color: #008000\">'A:ASP:56'</span>, <span style=\"color: #008000; text-decoration-color: #008000\">'A:LYS:77'</span>, <span style=\"color: #008000; text-decoration-color: #008000\">'A:GLU:11'</span>, <span style=\"color: #008000; text-decoration-color: #008000\">'A:GLN:3'</span>,   <span style=\"color: #7f7f7f; text-decoration-color: #7f7f7f\">               </span>\n",
       "<span style=\"color: #7fbfbf; text-decoration-color: #7fbfbf\">                    </span>         <span style=\"color: #008000; text-decoration-color: #008000\">'A:ILE:130'</span>, <span style=\"color: #008000; text-decoration-color: #008000\">'A:ASP:131'</span>, <span style=\"color: #008000; text-decoration-color: #008000\">'A:TYR:138'</span>,           <span style=\"color: #7f7f7f; text-decoration-color: #7f7f7f\">               </span>\n",
       "<span style=\"color: #7fbfbf; text-decoration-color: #7fbfbf\">                    </span>         <span style=\"color: #008000; text-decoration-color: #008000\">'A:ALA:10'</span>, <span style=\"color: #008000; text-decoration-color: #008000\">'A:GLN:41'</span>, <span style=\"color: #008000; text-decoration-color: #008000\">'A:LEU:105'</span>, <span style=\"color: #008000; text-decoration-color: #008000\">'A:PHE:68'</span>, <span style=\"color: #7f7f7f; text-decoration-color: #7f7f7f\">               </span>\n",
       "<span style=\"color: #7fbfbf; text-decoration-color: #7fbfbf\">                    </span>         <span style=\"color: #008000; text-decoration-color: #008000\">'A:ASN:111'</span>, <span style=\"color: #008000; text-decoration-color: #008000\">'A:THR:70'</span>, <span style=\"color: #008000; text-decoration-color: #008000\">'A:PRO:43'</span>, <span style=\"color: #008000; text-decoration-color: #008000\">'A:GLN:8'</span>,  <span style=\"color: #7f7f7f; text-decoration-color: #7f7f7f\">               </span>\n",
       "<span style=\"color: #7fbfbf; text-decoration-color: #7fbfbf\">                    </span>         <span style=\"color: #008000; text-decoration-color: #008000\">'A:LYS:30'</span>, <span style=\"color: #008000; text-decoration-color: #008000\">'A:ILE:52'</span>, <span style=\"color: #008000; text-decoration-color: #008000\">'A:PHE:19'</span>, <span style=\"color: #008000; text-decoration-color: #008000\">'A:ASP:118'</span>, <span style=\"color: #7f7f7f; text-decoration-color: #7f7f7f\">               </span>\n",
       "<span style=\"color: #7fbfbf; text-decoration-color: #7fbfbf\">                    </span>         <span style=\"color: #008000; text-decoration-color: #008000\">'A:TYR:99'</span>, <span style=\"color: #008000; text-decoration-color: #008000\">'A:ASP:133'</span>, <span style=\"color: #008000; text-decoration-color: #008000\">'A:THR:26'</span><span style=\"font-weight: bold\">]</span>.            <span style=\"color: #7f7f7f; text-decoration-color: #7f7f7f\">               </span>\n",
       "</pre>\n"
      ],
      "text/plain": [
       "\u001b[2;36m                   \u001b[0m\u001b[2;36m \u001b[0m\u001b[32mDEBUG   \u001b[0m Creating subgraph from nodes: \u001b[1m[\u001b[0m\u001b[32m'A:PHE:16'\u001b[0m,       \u001b]8;id=936948;file:///home/atj39/github/graphein/graphein/protein/subgraphs.py\u001b\\\u001b[2msubgraphs.py\u001b[0m\u001b]8;;\u001b\\\u001b[2m:\u001b[0m\u001b]8;id=3908;file:///home/atj39/github/graphein/graphein/protein/subgraphs.py#57\u001b\\\u001b[2m57\u001b[0m\u001b]8;;\u001b\\\n",
       "\u001b[2;36m                    \u001b[0m         \u001b[32m'A:GLU:83'\u001b[0m, \u001b[32m'A:ASP:22'\u001b[0m, \u001b[32m'A:GLY:59'\u001b[0m, \u001b[32m'A:ARG:90'\u001b[0m,  \u001b[2m               \u001b[0m\n",
       "\u001b[2;36m                    \u001b[0m         \u001b[32m'A:LEU:4'\u001b[0m, \u001b[32m'A:ARG:106'\u001b[0m, \u001b[32m'A:GLY:132'\u001b[0m, \u001b[32m'A:ASP:58'\u001b[0m, \u001b[2m               \u001b[0m\n",
       "\u001b[2;36m                    \u001b[0m         \u001b[32m'A:ALA:88'\u001b[0m, \u001b[32m'A:ARG:37'\u001b[0m, \u001b[32m'A:MET:71'\u001b[0m, \u001b[32m'A:LYS:21'\u001b[0m,  \u001b[2m               \u001b[0m\n",
       "\u001b[2;36m                    \u001b[0m         \u001b[32m'A:GLU:114'\u001b[0m, \u001b[32m'A:ASP:95'\u001b[0m, \u001b[32m'A:GLY:23'\u001b[0m, \u001b[32m'A:GLU:82'\u001b[0m, \u001b[2m               \u001b[0m\n",
       "\u001b[2;36m                    \u001b[0m         \u001b[32m'A:ALA:103'\u001b[0m, \u001b[32m'A:GLU:54'\u001b[0m, \u001b[32m'A:ALA:147'\u001b[0m,            \u001b[2m               \u001b[0m\n",
       "\u001b[2;36m                    \u001b[0m         \u001b[32m'A:ARG:126'\u001b[0m, \u001b[32m'A:GLU:45'\u001b[0m, \u001b[32m'A:THR:28'\u001b[0m, \u001b[32m'A:ALA:1'\u001b[0m,  \u001b[2m               \u001b[0m\n",
       "\u001b[2;36m                    \u001b[0m         \u001b[32m'A:ALA:46'\u001b[0m, \u001b[32m'A:ALA:73'\u001b[0m, \u001b[32m'A:GLU:67'\u001b[0m, \u001b[32m'A:SER:81'\u001b[0m,  \u001b[2m               \u001b[0m\n",
       "\u001b[2;36m                    \u001b[0m         \u001b[32m'A:GLU:84'\u001b[0m, \u001b[32m'A:VAL:108'\u001b[0m, \u001b[32m'A:ASN:42'\u001b[0m,             \u001b[2m               \u001b[0m\n",
       "\u001b[2;36m                    \u001b[0m         \u001b[32m'A:LYS:115'\u001b[0m, \u001b[32m'A:THR:5'\u001b[0m, \u001b[32m'A:ILE:63'\u001b[0m, \u001b[32m'A:ASP:2'\u001b[0m,   \u001b[2m               \u001b[0m\n",
       "\u001b[2;36m                    \u001b[0m         \u001b[32m'A:ASP:80'\u001b[0m, \u001b[32m'A:ALA:128'\u001b[0m, \u001b[32m'A:ASP:50'\u001b[0m, \u001b[32m'A:SER:17'\u001b[0m, \u001b[2m               \u001b[0m\n",
       "\u001b[2;36m                    \u001b[0m         \u001b[32m'A:ASP:129'\u001b[0m, \u001b[32m'A:VAL:136'\u001b[0m, \u001b[32m'A:LEU:48'\u001b[0m,            \u001b[2m               \u001b[0m\n",
       "\u001b[2;36m                    \u001b[0m         \u001b[32m'A:PHE:141'\u001b[0m, \u001b[32m'A:ILE:85'\u001b[0m, \u001b[32m'A:GLY:33'\u001b[0m, \u001b[32m'A:MET:51'\u001b[0m, \u001b[2m               \u001b[0m\n",
       "\u001b[2;36m                    \u001b[0m         \u001b[32m'A:GLY:134'\u001b[0m, \u001b[32m'A:ILE:125'\u001b[0m, \u001b[32m'A:ASN:97'\u001b[0m,            \u001b[2m               \u001b[0m\n",
       "\u001b[2;36m                    \u001b[0m         \u001b[32m'A:GLU:120'\u001b[0m, \u001b[32m'A:THR:110'\u001b[0m, \u001b[32m'A:ASP:93'\u001b[0m,            \u001b[2m               \u001b[0m\n",
       "\u001b[2;36m                    \u001b[0m         \u001b[32m'A:SER:101'\u001b[0m, \u001b[32m'A:ILE:9'\u001b[0m, \u001b[32m'A:ASP:20'\u001b[0m, \u001b[32m'A:ASN:53'\u001b[0m,  \u001b[2m               \u001b[0m\n",
       "\u001b[2;36m                    \u001b[0m         \u001b[32m'A:GLU:127'\u001b[0m, \u001b[32m'A:VAL:142'\u001b[0m, \u001b[32m'A:ASP:122'\u001b[0m,           \u001b[2m               \u001b[0m\n",
       "\u001b[2;36m                    \u001b[0m         \u001b[32m'A:GLU:7'\u001b[0m, \u001b[32m'A:ALA:15'\u001b[0m, \u001b[32m'A:GLY:25'\u001b[0m, \u001b[32m'A:VAL:35'\u001b[0m,   \u001b[2m               \u001b[0m\n",
       "\u001b[2;36m                    \u001b[0m         \u001b[32m'A:MET:76'\u001b[0m, \u001b[32m'A:GLY:61'\u001b[0m, \u001b[32m'A:LEU:116'\u001b[0m, \u001b[32m'A:LYS:94'\u001b[0m, \u001b[2m               \u001b[0m\n",
       "\u001b[2;36m                    \u001b[0m         \u001b[32m'A:LEU:18'\u001b[0m, \u001b[32m'A:THR:34'\u001b[0m, \u001b[32m'A:GLU:140'\u001b[0m, \u001b[32m'A:LYS:13'\u001b[0m, \u001b[2m               \u001b[0m\n",
       "\u001b[2;36m                    \u001b[0m         \u001b[32m'A:ARG:74'\u001b[0m, \u001b[32m'A:PHE:92'\u001b[0m, \u001b[32m'A:ARG:86'\u001b[0m, \u001b[32m'A:GLY:98'\u001b[0m,  \u001b[2m               \u001b[0m\n",
       "\u001b[2;36m                    \u001b[0m         \u001b[32m'A:GLY:113'\u001b[0m, \u001b[32m'A:LEU:69'\u001b[0m, \u001b[32m'A:THR:29'\u001b[0m, \u001b[32m'A:MET:36'\u001b[0m, \u001b[2m               \u001b[0m\n",
       "\u001b[2;36m                    \u001b[0m         \u001b[32m'A:LYS:75'\u001b[0m, \u001b[32m'A:LEU:32'\u001b[0m, \u001b[32m'A:GLU:123'\u001b[0m, \u001b[32m'A:GLU:47'\u001b[0m, \u001b[2m               \u001b[0m\n",
       "\u001b[2;36m                    \u001b[0m         \u001b[32m'A:VAL:121'\u001b[0m, \u001b[32m'A:ASP:24'\u001b[0m, \u001b[32m'A:THR:44'\u001b[0m, \u001b[32m'A:THR:62'\u001b[0m, \u001b[2m               \u001b[0m\n",
       "\u001b[2;36m                    \u001b[0m         \u001b[32m'A:ALA:102'\u001b[0m, \u001b[32m'A:MET:72'\u001b[0m, \u001b[32m'A:LEU:39'\u001b[0m, \u001b[32m'A:VAL:91'\u001b[0m, \u001b[2m               \u001b[0m\n",
       "\u001b[2;36m                    \u001b[0m         \u001b[32m'A:PHE:65'\u001b[0m, \u001b[32m'A:GLU:119'\u001b[0m, \u001b[32m'A:THR:146'\u001b[0m,            \u001b[2m               \u001b[0m\n",
       "\u001b[2;36m                    \u001b[0m         \u001b[32m'A:GLU:139'\u001b[0m, \u001b[32m'A:THR:117'\u001b[0m, \u001b[32m'A:GLN:135'\u001b[0m,           \u001b[2m               \u001b[0m\n",
       "\u001b[2;36m                    \u001b[0m         \u001b[32m'A:GLN:143'\u001b[0m, \u001b[32m'A:LEU:112'\u001b[0m, \u001b[32m'A:ASN:137'\u001b[0m,           \u001b[2m               \u001b[0m\n",
       "\u001b[2;36m                    \u001b[0m         \u001b[32m'A:ASP:64'\u001b[0m, \u001b[32m'A:GLY:40'\u001b[0m, \u001b[32m'A:ILE:27'\u001b[0m, \u001b[32m'A:GLY:96'\u001b[0m,  \u001b[2m               \u001b[0m\n",
       "\u001b[2;36m                    \u001b[0m         \u001b[32m'A:MET:109'\u001b[0m, \u001b[32m'A:GLN:49'\u001b[0m, \u001b[32m'A:ASP:78'\u001b[0m, \u001b[32m'A:PHE:89'\u001b[0m, \u001b[2m               \u001b[0m\n",
       "\u001b[2;36m                    \u001b[0m         \u001b[32m'A:ILE:100'\u001b[0m, \u001b[32m'A:VAL:55'\u001b[0m, \u001b[32m'A:THR:79'\u001b[0m, \u001b[32m'A:GLU:6'\u001b[0m,  \u001b[2m               \u001b[0m\n",
       "\u001b[2;36m                    \u001b[0m         \u001b[32m'A:GLU:104'\u001b[0m, \u001b[32m'A:MET:145'\u001b[0m, \u001b[32m'A:SER:38'\u001b[0m,            \u001b[2m               \u001b[0m\n",
       "\u001b[2;36m                    \u001b[0m         \u001b[32m'A:GLU:31'\u001b[0m, \u001b[32m'A:PRO:66'\u001b[0m, \u001b[32m'A:LYS:148'\u001b[0m, \u001b[32m'A:GLU:87'\u001b[0m, \u001b[2m               \u001b[0m\n",
       "\u001b[2;36m                    \u001b[0m         \u001b[32m'A:GLU:14'\u001b[0m, \u001b[32m'A:HIS:107'\u001b[0m, \u001b[32m'A:MET:144'\u001b[0m,            \u001b[2m               \u001b[0m\n",
       "\u001b[2;36m                    \u001b[0m         \u001b[32m'A:PHE:12'\u001b[0m, \u001b[32m'A:ASN:60'\u001b[0m, \u001b[32m'A:MET:124'\u001b[0m, \u001b[32m'A:ALA:57'\u001b[0m, \u001b[2m               \u001b[0m\n",
       "\u001b[2;36m                    \u001b[0m         \u001b[32m'A:ASP:56'\u001b[0m, \u001b[32m'A:LYS:77'\u001b[0m, \u001b[32m'A:GLU:11'\u001b[0m, \u001b[32m'A:GLN:3'\u001b[0m,   \u001b[2m               \u001b[0m\n",
       "\u001b[2;36m                    \u001b[0m         \u001b[32m'A:ILE:130'\u001b[0m, \u001b[32m'A:ASP:131'\u001b[0m, \u001b[32m'A:TYR:138'\u001b[0m,           \u001b[2m               \u001b[0m\n",
       "\u001b[2;36m                    \u001b[0m         \u001b[32m'A:ALA:10'\u001b[0m, \u001b[32m'A:GLN:41'\u001b[0m, \u001b[32m'A:LEU:105'\u001b[0m, \u001b[32m'A:PHE:68'\u001b[0m, \u001b[2m               \u001b[0m\n",
       "\u001b[2;36m                    \u001b[0m         \u001b[32m'A:ASN:111'\u001b[0m, \u001b[32m'A:THR:70'\u001b[0m, \u001b[32m'A:PRO:43'\u001b[0m, \u001b[32m'A:GLN:8'\u001b[0m,  \u001b[2m               \u001b[0m\n",
       "\u001b[2;36m                    \u001b[0m         \u001b[32m'A:LYS:30'\u001b[0m, \u001b[32m'A:ILE:52'\u001b[0m, \u001b[32m'A:PHE:19'\u001b[0m, \u001b[32m'A:ASP:118'\u001b[0m, \u001b[2m               \u001b[0m\n",
       "\u001b[2;36m                    \u001b[0m         \u001b[32m'A:TYR:99'\u001b[0m, \u001b[32m'A:ASP:133'\u001b[0m, \u001b[32m'A:THR:26'\u001b[0m\u001b[1m]\u001b[0m.            \u001b[2m               \u001b[0m\n"
      ]
     },
     "metadata": {},
     "output_type": "display_data"
    }
   ],
   "source": [
    "from graphein.ml import ProteinGraphListDataset, GraphFormatConvertor\n",
    "import graphein.protein as gp\n",
    "\n",
    "# Construct graphs\n",
    "graphs = gp.construct_graphs_mp(\n",
    "    pdb_code_it=[\"3eiy\", \"4hhb\", \"1lds\", \"2ll6\"],\n",
    "    return_dict=False\n",
    "    )\n",
    "\n",
    "# do some transformation\n",
    "graphs = [gp.extract_subgraph_from_chains(g, [\"A\"]) for g in graphs]\n",
    "\n",
    "# Convert to PyG Data format\n",
    "convertor = GraphFormatConvertor(src_format=\"nx\", dst_format=\"pyg\")\n",
    "graphs = [convertor(g) for g in graphs]\n",
    "\n",
    "# Create dataset\n",
    "ds = ProteinGraphListDataset(root=\".\", data_list=graphs, name=\"list_test\")"
   ]
  },
  {
   "cell_type": "code",
   "execution_count": 12,
   "metadata": {},
   "outputs": [
    {
     "name": "stdout",
     "output_type": "stream",
     "text": [
      "Data(edge_index=[2, 173], node_id=[174], coords=[1], name=[1], dist_mat=[1], num_nodes=174)\n",
      "Data(edge_index=[2, 140], node_id=[141], coords=[1], name=[1], dist_mat=[1], num_nodes=141)\n",
      "Data(edge_index=[2, 96], node_id=[97], coords=[1], name=[1], dist_mat=[1], num_nodes=97)\n",
      "Data(edge_index=[2, 147], node_id=[148], coords=[1], name=[1], dist_mat=[1], num_nodes=148)\n"
     ]
    }
   ],
   "source": [
    "for i in ds:\n",
    "    print(i)"
   ]
  },
  {
   "cell_type": "code",
   "execution_count": 13,
   "metadata": {},
   "outputs": [
    {
     "name": "stdout",
     "output_type": "stream",
     "text": [
      "DataBatch(edge_index=[2, 313], node_id=[2], coords=[2], name=[2], dist_mat=[2], num_nodes=315, batch=[315], ptr=[3])\n",
      "DataBatch(edge_index=[2, 243], node_id=[2], coords=[2], name=[2], dist_mat=[2], num_nodes=245, batch=[245], ptr=[3])\n"
     ]
    }
   ],
   "source": [
    "# Create a dataloader from dataset and inspect a few batches\n",
    "dl = DataLoader(ds, batch_size=2, shuffle=True, drop_last=False)\n",
    "for i in dl:\n",
    "    print(i)"
   ]
  },
  {
   "cell_type": "markdown",
   "metadata": {},
   "source": [
    "### Transforms\n",
    "\n",
    "We can supply various functions to `ProteinGraphDataset` and `InMemoryProteinGraphDataset` to alter the composition of the dataset.\n",
    "\n",
    "* ``pdb_transform`` (``list(callable)``, optional) - A function that receives a list of paths to the downloaded structures. This provides an entry point to apply pre-processing from bioinformatics tools of your choosing\n",
    "\n",
    "* ``graph_transformation_funcs``: (``List[Callable]``, optional) List of functions that consume a ``nx.Graph`` and return a ``nx.Graph``. Applied to graphs after construction but before conversion to ``torch_geometric.data.Data``. Defaults to ``None``.\n",
    "\n",
    "* ``transform`` (``callable``, optional) – A function/transform that takes in a ``torch_geometric.data.Data`` object and returns a transformed version. The data object will be transformed before every access. (default: ``None``)\n",
    "\n",
    "* ``pre_transform`` (``callable``, optional) – A function/transform that takes in a torch_geometric.data.Data object and returns a transformed version. The data object will be transformed before being saved to disk. (default: ``None``)\n",
    "\n",
    "* ``pre_filter`` (``callable,`` optional) – A function that takes in a ``torch_geometric.data.Data`` object and returns a boolean value, indicating whether the data object should be included in the final dataset. (default: ``None``)"
   ]
  },
  {
   "cell_type": "code",
   "execution_count": 14,
   "metadata": {},
   "outputs": [],
   "source": [
    "from typing import List\n",
    "import networkx as nx\n",
    "from torch_geometric.data import Data\n",
    "\n",
    "# Create dummy transforms\n",
    "def pdb_transform_fn(files: List[str]):\n",
    "    \"\"\"Transforms raw pdbs prior to computing graphs.\"\"\"\n",
    "    return\n",
    "\n",
    "def graph_transform_fn(graph: nx.Graph) -> nx.Graph:\n",
    "    \"\"\"Transforms graphein nx.Graph prior to conversion to torch_geometric.data.Data.\"\"\"\n",
    "    return graph\n",
    "\n",
    "def transform_fn(data: Data) -> Data:\n",
    "    \"\"\"Transforms torch_geometric.data.Data prior to every access.\"\"\"\n",
    "    return data\n",
    "\n",
    "def pre_transform_fn(data: Data) -> Data:\n",
    "    \"\"\"Transforms torch_geometric.data.Data prior to saving to disk.\"\"\"\n",
    "    return data\n",
    "\n",
    "def pre_filter_fn(data: Data) -> bool:\n",
    "    \"\"\"Takes in a torch_geometric.data.Data and returns True if the data should be included in the dataset.\"\"\"\n",
    "    return True"
   ]
  },
  {
   "cell_type": "code",
   "execution_count": 15,
   "metadata": {},
   "outputs": [
    {
     "name": "stderr",
     "output_type": "stream",
     "text": [
      "/home/atj39/anaconda3/envs/graphein/lib/python3.8/site-packages/torch_geometric/data/dataset.py:190: UserWarning: The `pre_transform` argument differs from the one used in the pre-processed version of this dataset. If you want to make use of another pre-processing technique, make sure to delete '../graphein/ml/datasets/test/processed' first\n",
      "  warnings.warn(\n",
      "/home/atj39/anaconda3/envs/graphein/lib/python3.8/site-packages/torch_geometric/data/dataset.py:198: UserWarning: The `pre_filter` argument differs from the one used in the pre-processed version of this dataset. If you want to make use of another pre-fitering technique, make sure to delete '{self.processed_dir}' first\n",
      "  warnings.warn(\n"
     ]
    }
   ],
   "source": [
    "from graphein.ml.datasets.torch_geometric_dataset import InMemoryProteinGraphDataset\n",
    "\n",
    "g_lab_map = {\"3eiy\": 1, \"4hhb\": 2, \"Q5VSL9\": 3, \"1lds\": 10, \"2ll6\": 4}\n",
    "node_lab_map = {\"3eiy\": 1, \"4hhb\": 2, \"Q5VSL9\": 3, \"1lds\": 10, \"2ll6\": 4}\n",
    "chain_selection_map = {\"4hhb\": \"A\"}\n",
    "\n",
    "ds = InMemoryProteinGraphDataset(\n",
    "    root = \"../graphein/ml/datasets/test\",\n",
    "    name=\"test\",\n",
    "    pdb_codes=[\"3eiy\", \"4hhb\", \"1lds\", \"2ll6\"],\n",
    "    uniprot_ids=[\"Q5VSL9\"],\n",
    "    graph_label_map=g_lab_map,\n",
    "    node_label_map=node_lab_map,\n",
    "    chain_selection_map=chain_selection_map,\n",
    "    pdb_transform=[pdb_transform_fn],\n",
    "    graph_transformation_funcs=[graph_transform_fn],\n",
    "    transform=transform_fn,\n",
    "    pre_transform=pre_transform_fn,\n",
    "    pre_filter=pre_filter_fn\n",
    ")"
   ]
  }
 ],
 "metadata": {
  "kernelspec": {
   "display_name": "graphein",
   "language": "python",
   "name": "python3"
  },
  "language_info": {
   "codemirror_mode": {
    "name": "ipython",
    "version": 3
   },
   "file_extension": ".py",
   "mimetype": "text/x-python",
   "name": "python",
   "nbconvert_exporter": "python",
   "pygments_lexer": "ipython3",
   "version": "3.8.13"
  },
  "orig_nbformat": 4,
  "vscode": {
   "interpreter": {
    "hash": "0ab7f988027852efc1ebacd06db3f130eb65d2a20cb6a366311359132c20a952"
   }
  }
 },
 "nbformat": 4,
 "nbformat_minor": 2
}
